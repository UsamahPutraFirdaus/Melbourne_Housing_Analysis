{
  "nbformat": 4,
  "nbformat_minor": 0,
  "metadata": {
    "colab": {
      "provenance": [],
      "toc_visible": true,
      "authorship_tag": "ABX9TyP14U5cYYYhetXMFHP9ixzu",
      "include_colab_link": true
    },
    "kernelspec": {
      "name": "python3",
      "display_name": "Python 3"
    },
    "language_info": {
      "name": "python"
    }
  },
  "cells": [
    {
      "cell_type": "markdown",
      "metadata": {
        "id": "view-in-github",
        "colab_type": "text"
      },
      "source": [
        "<a href=\"https://colab.research.google.com/github/UsamahPutraFirdaus/Melbourne_Housing_Analysis/blob/main/Melbourne_Housing_Market_Data_Analysis.ipynb\" target=\"_parent\"><img src=\"https://colab.research.google.com/assets/colab-badge.svg\" alt=\"Open In Colab\"/></a>"
      ]
    },
    {
      "cell_type": "markdown",
      "source": [
        "# DATA UNDERSTANDING"
      ],
      "metadata": {
        "id": "OIeXRCIRBV5H"
      }
    },
    {
      "cell_type": "markdown",
      "source": [
        "### OBJECTIVE\n",
        "> - To demonstrate practical skills in data preprocessing and descriptive analysis.\n",
        ">\n",
        "> ### DATASET:\n",
        "> - The Melbourne Housing Market dataset, available at [Kaggle - Melbourne Housing](https://www.kaggle.com/datasets/anthonypino/melbourne-housing-market/data)."
      ],
      "metadata": {
        "id": "YUbSKkOoAixy"
      }
    },
    {
      "cell_type": "markdown",
      "source": [
        "### BACKGROUND\n",
        "\n",
        "Melbourne is currently experiencing a housing bubble (some experts say it may burst soon). Maybe you can find a trend to this matter? Which suburbs are the best to buy in? Which ones are value for money? Where's the expensive side of town? And more importantly where should you buy a 2 bedroom unit?\n",
        "\n",
        "### CONTENT & ACKNOWLEDGEMENTS\n",
        "This data was scraped from publicly available results posted every week from Domain.com.au, it's cleaned, but you should check it properly to make sure the data analysis is valid.\n",
        "\n",
        "The dataset includes Address, Type of Real estate, Suburb, Method of Selling, Rooms, Price, Real Estate Agent, Date of Sale and distance from C.B.D."
      ],
      "metadata": {
        "id": "l3Am1T6hAvyr"
      }
    },
    {
      "cell_type": "markdown",
      "source": [
        "### DATA DICTIONARY AND KEY DETAILS\n",
        "\n",
        "- **Suburb:** Suburb\n",
        "- **Address:** Address\n",
        "- **Rooms:** Number of rooms\n",
        "- **Price:** Price in Australian dollars\n",
        "\n",
        "- **Method:**\n",
        "**S** - property sold;\n",
        "**SP** - property sold prior;\n",
        "**PI** - property passed in;\n",
        "**PN** - sold prior not disclosed;\n",
        "**SN** - sold not disclosed;\n",
        "**NB** - no bid;\n",
        "**VB** - vendor bid;\n",
        "**W** - withdrawn prior to auction;\n",
        "**SA** - sold after auction;\n",
        "**SS** - sold after auction price not disclosed.\n",
        "**N/A** - price or highest bid not available.\n",
        "\n",
        "- **Type:**\n",
        "**br** - bedroom(s);\n",
        "**h** - house,cottage,villa, semi,terrace;\n",
        "**u** - unit, duplex;\n",
        "**t** - townhouse;\n",
        "**dev site** - development site;\n",
        "**o res** - other residential.\n",
        "\n",
        "- **SellerG:** Real Estate Agent\n",
        "- **Date:** Date sold\n",
        "- **Distance:** Distance from CBD in Kilometres\n",
        "- **Regionname:** General Region (West, North West, North, North east …etc)\n",
        "- **Propertycount:** Number of properties that exist in the suburb.\n",
        "- **Bedroom2:** Scraped # of Bedrooms (from different source)\n",
        "- **Bathroom:** Number of Bathrooms\n",
        "- **Car:** Number of carspots\n",
        "- **Landsize:** Land Size in Metres\n",
        "- **BuildingArea:** Building Size in Metres\n",
        "- **YearBuilt:** Year the house was built\n",
        "- **CouncilArea:** Governing council for the area\n",
        "- **Lattitude:** Self explanitory\n",
        "- **Longtitude:** Self explanitory"
      ],
      "metadata": {
        "id": "D5DZZhNTA6NA"
      }
    },
    {
      "cell_type": "markdown",
      "source": [
        "# IMPORTING LIBRARY"
      ],
      "metadata": {
        "id": "E4tduwy8CpNF"
      }
    },
    {
      "cell_type": "code",
      "source": [
        "import numpy as np\n",
        "import pandas as pd\n",
        "import matplotlib.pyplot as plt\n",
        "import seaborn as sns"
      ],
      "metadata": {
        "id": "mDHqOhq_CyXK"
      },
      "execution_count": 100,
      "outputs": []
    },
    {
      "cell_type": "markdown",
      "source": [
        "# DATA WRANGLING"
      ],
      "metadata": {
        "id": "FnBcILDCB8H5"
      }
    },
    {
      "cell_type": "markdown",
      "source": [
        "## Importing Data"
      ],
      "metadata": {
        "id": "8dshm9gBCCzH"
      }
    },
    {
      "cell_type": "code",
      "execution_count": 101,
      "metadata": {
        "id": "F_CjvU6dAc6v"
      },
      "outputs": [],
      "source": [
        "url = \"https://docs.google.com/spreadsheets/d/1DLCqSGw7L1cWgADVJ0gm1ZjsjCXd8v7M/edit?usp=drive_link&ouid=109358812002607646858&rtpof=true&sd=true\"\n",
        "file_id = url.split('/')[-2]\n",
        "download_url = f'https://drive.google.com/uc?export=download&id={file_id}'\n",
        "df= pd.read_csv(download_url)"
      ]
    },
    {
      "cell_type": "markdown",
      "source": [
        "## Assessing Data"
      ],
      "metadata": {
        "id": "_frIXd84DO8k"
      }
    },
    {
      "cell_type": "markdown",
      "source": [
        "### Check Information of the Data"
      ],
      "metadata": {
        "id": "HDecgsI6EgtQ"
      }
    },
    {
      "cell_type": "code",
      "source": [
        "df.head()"
      ],
      "metadata": {
        "colab": {
          "base_uri": "https://localhost:8080/",
          "height": 377
        },
        "id": "LfpUWf4JDUJ5",
        "outputId": "042fb489-c0d8-424a-9070-c3ddc57543ef"
      },
      "execution_count": 102,
      "outputs": [
        {
          "output_type": "execute_result",
          "data": {
            "text/plain": [
              "       Suburb           Address  Rooms Type      Price Method SellerG  \\\n",
              "0  Abbotsford      85 Turner St      2    h  1480000.0      S  Biggin   \n",
              "1  Abbotsford   25 Bloomburg St      2    h  1035000.0      S  Biggin   \n",
              "2  Abbotsford      5 Charles St      3    h  1465000.0     SP  Biggin   \n",
              "3  Abbotsford  40 Federation La      3    h   850000.0     PI  Biggin   \n",
              "4  Abbotsford       55a Park St      4    h  1600000.0     VB  Nelson   \n",
              "\n",
              "        Date  Distance  Postcode  ...  Bathroom  Car  Landsize  BuildingArea  \\\n",
              "0  3/12/2016       2.5    3067.0  ...       1.0  1.0     202.0           NaN   \n",
              "1  4/02/2016       2.5    3067.0  ...       1.0  0.0     156.0          79.0   \n",
              "2  4/03/2017       2.5    3067.0  ...       2.0  0.0     134.0         150.0   \n",
              "3  4/03/2017       2.5    3067.0  ...       2.0  1.0      94.0           NaN   \n",
              "4  4/06/2016       2.5    3067.0  ...       1.0  2.0     120.0         142.0   \n",
              "\n",
              "   YearBuilt  CouncilArea Lattitude  Longtitude             Regionname  \\\n",
              "0        NaN        Yarra  -37.7996    144.9984  Northern Metropolitan   \n",
              "1     1900.0        Yarra  -37.8079    144.9934  Northern Metropolitan   \n",
              "2     1900.0        Yarra  -37.8093    144.9944  Northern Metropolitan   \n",
              "3        NaN        Yarra  -37.7969    144.9969  Northern Metropolitan   \n",
              "4     2014.0        Yarra  -37.8072    144.9941  Northern Metropolitan   \n",
              "\n",
              "  Propertycount  \n",
              "0        4019.0  \n",
              "1        4019.0  \n",
              "2        4019.0  \n",
              "3        4019.0  \n",
              "4        4019.0  \n",
              "\n",
              "[5 rows x 21 columns]"
            ],
            "text/html": [
              "\n",
              "  <div id=\"df-9eb97f8a-f64a-4f12-84b9-39b920085118\" class=\"colab-df-container\">\n",
              "    <div>\n",
              "<style scoped>\n",
              "    .dataframe tbody tr th:only-of-type {\n",
              "        vertical-align: middle;\n",
              "    }\n",
              "\n",
              "    .dataframe tbody tr th {\n",
              "        vertical-align: top;\n",
              "    }\n",
              "\n",
              "    .dataframe thead th {\n",
              "        text-align: right;\n",
              "    }\n",
              "</style>\n",
              "<table border=\"1\" class=\"dataframe\">\n",
              "  <thead>\n",
              "    <tr style=\"text-align: right;\">\n",
              "      <th></th>\n",
              "      <th>Suburb</th>\n",
              "      <th>Address</th>\n",
              "      <th>Rooms</th>\n",
              "      <th>Type</th>\n",
              "      <th>Price</th>\n",
              "      <th>Method</th>\n",
              "      <th>SellerG</th>\n",
              "      <th>Date</th>\n",
              "      <th>Distance</th>\n",
              "      <th>Postcode</th>\n",
              "      <th>...</th>\n",
              "      <th>Bathroom</th>\n",
              "      <th>Car</th>\n",
              "      <th>Landsize</th>\n",
              "      <th>BuildingArea</th>\n",
              "      <th>YearBuilt</th>\n",
              "      <th>CouncilArea</th>\n",
              "      <th>Lattitude</th>\n",
              "      <th>Longtitude</th>\n",
              "      <th>Regionname</th>\n",
              "      <th>Propertycount</th>\n",
              "    </tr>\n",
              "  </thead>\n",
              "  <tbody>\n",
              "    <tr>\n",
              "      <th>0</th>\n",
              "      <td>Abbotsford</td>\n",
              "      <td>85 Turner St</td>\n",
              "      <td>2</td>\n",
              "      <td>h</td>\n",
              "      <td>1480000.0</td>\n",
              "      <td>S</td>\n",
              "      <td>Biggin</td>\n",
              "      <td>3/12/2016</td>\n",
              "      <td>2.5</td>\n",
              "      <td>3067.0</td>\n",
              "      <td>...</td>\n",
              "      <td>1.0</td>\n",
              "      <td>1.0</td>\n",
              "      <td>202.0</td>\n",
              "      <td>NaN</td>\n",
              "      <td>NaN</td>\n",
              "      <td>Yarra</td>\n",
              "      <td>-37.7996</td>\n",
              "      <td>144.9984</td>\n",
              "      <td>Northern Metropolitan</td>\n",
              "      <td>4019.0</td>\n",
              "    </tr>\n",
              "    <tr>\n",
              "      <th>1</th>\n",
              "      <td>Abbotsford</td>\n",
              "      <td>25 Bloomburg St</td>\n",
              "      <td>2</td>\n",
              "      <td>h</td>\n",
              "      <td>1035000.0</td>\n",
              "      <td>S</td>\n",
              "      <td>Biggin</td>\n",
              "      <td>4/02/2016</td>\n",
              "      <td>2.5</td>\n",
              "      <td>3067.0</td>\n",
              "      <td>...</td>\n",
              "      <td>1.0</td>\n",
              "      <td>0.0</td>\n",
              "      <td>156.0</td>\n",
              "      <td>79.0</td>\n",
              "      <td>1900.0</td>\n",
              "      <td>Yarra</td>\n",
              "      <td>-37.8079</td>\n",
              "      <td>144.9934</td>\n",
              "      <td>Northern Metropolitan</td>\n",
              "      <td>4019.0</td>\n",
              "    </tr>\n",
              "    <tr>\n",
              "      <th>2</th>\n",
              "      <td>Abbotsford</td>\n",
              "      <td>5 Charles St</td>\n",
              "      <td>3</td>\n",
              "      <td>h</td>\n",
              "      <td>1465000.0</td>\n",
              "      <td>SP</td>\n",
              "      <td>Biggin</td>\n",
              "      <td>4/03/2017</td>\n",
              "      <td>2.5</td>\n",
              "      <td>3067.0</td>\n",
              "      <td>...</td>\n",
              "      <td>2.0</td>\n",
              "      <td>0.0</td>\n",
              "      <td>134.0</td>\n",
              "      <td>150.0</td>\n",
              "      <td>1900.0</td>\n",
              "      <td>Yarra</td>\n",
              "      <td>-37.8093</td>\n",
              "      <td>144.9944</td>\n",
              "      <td>Northern Metropolitan</td>\n",
              "      <td>4019.0</td>\n",
              "    </tr>\n",
              "    <tr>\n",
              "      <th>3</th>\n",
              "      <td>Abbotsford</td>\n",
              "      <td>40 Federation La</td>\n",
              "      <td>3</td>\n",
              "      <td>h</td>\n",
              "      <td>850000.0</td>\n",
              "      <td>PI</td>\n",
              "      <td>Biggin</td>\n",
              "      <td>4/03/2017</td>\n",
              "      <td>2.5</td>\n",
              "      <td>3067.0</td>\n",
              "      <td>...</td>\n",
              "      <td>2.0</td>\n",
              "      <td>1.0</td>\n",
              "      <td>94.0</td>\n",
              "      <td>NaN</td>\n",
              "      <td>NaN</td>\n",
              "      <td>Yarra</td>\n",
              "      <td>-37.7969</td>\n",
              "      <td>144.9969</td>\n",
              "      <td>Northern Metropolitan</td>\n",
              "      <td>4019.0</td>\n",
              "    </tr>\n",
              "    <tr>\n",
              "      <th>4</th>\n",
              "      <td>Abbotsford</td>\n",
              "      <td>55a Park St</td>\n",
              "      <td>4</td>\n",
              "      <td>h</td>\n",
              "      <td>1600000.0</td>\n",
              "      <td>VB</td>\n",
              "      <td>Nelson</td>\n",
              "      <td>4/06/2016</td>\n",
              "      <td>2.5</td>\n",
              "      <td>3067.0</td>\n",
              "      <td>...</td>\n",
              "      <td>1.0</td>\n",
              "      <td>2.0</td>\n",
              "      <td>120.0</td>\n",
              "      <td>142.0</td>\n",
              "      <td>2014.0</td>\n",
              "      <td>Yarra</td>\n",
              "      <td>-37.8072</td>\n",
              "      <td>144.9941</td>\n",
              "      <td>Northern Metropolitan</td>\n",
              "      <td>4019.0</td>\n",
              "    </tr>\n",
              "  </tbody>\n",
              "</table>\n",
              "<p>5 rows × 21 columns</p>\n",
              "</div>\n",
              "    <div class=\"colab-df-buttons\">\n",
              "\n",
              "  <div class=\"colab-df-container\">\n",
              "    <button class=\"colab-df-convert\" onclick=\"convertToInteractive('df-9eb97f8a-f64a-4f12-84b9-39b920085118')\"\n",
              "            title=\"Convert this dataframe to an interactive table.\"\n",
              "            style=\"display:none;\">\n",
              "\n",
              "  <svg xmlns=\"http://www.w3.org/2000/svg\" height=\"24px\" viewBox=\"0 -960 960 960\">\n",
              "    <path d=\"M120-120v-720h720v720H120Zm60-500h600v-160H180v160Zm220 220h160v-160H400v160Zm0 220h160v-160H400v160ZM180-400h160v-160H180v160Zm440 0h160v-160H620v160ZM180-180h160v-160H180v160Zm440 0h160v-160H620v160Z\"/>\n",
              "  </svg>\n",
              "    </button>\n",
              "\n",
              "  <style>\n",
              "    .colab-df-container {\n",
              "      display:flex;\n",
              "      gap: 12px;\n",
              "    }\n",
              "\n",
              "    .colab-df-convert {\n",
              "      background-color: #E8F0FE;\n",
              "      border: none;\n",
              "      border-radius: 50%;\n",
              "      cursor: pointer;\n",
              "      display: none;\n",
              "      fill: #1967D2;\n",
              "      height: 32px;\n",
              "      padding: 0 0 0 0;\n",
              "      width: 32px;\n",
              "    }\n",
              "\n",
              "    .colab-df-convert:hover {\n",
              "      background-color: #E2EBFA;\n",
              "      box-shadow: 0px 1px 2px rgba(60, 64, 67, 0.3), 0px 1px 3px 1px rgba(60, 64, 67, 0.15);\n",
              "      fill: #174EA6;\n",
              "    }\n",
              "\n",
              "    .colab-df-buttons div {\n",
              "      margin-bottom: 4px;\n",
              "    }\n",
              "\n",
              "    [theme=dark] .colab-df-convert {\n",
              "      background-color: #3B4455;\n",
              "      fill: #D2E3FC;\n",
              "    }\n",
              "\n",
              "    [theme=dark] .colab-df-convert:hover {\n",
              "      background-color: #434B5C;\n",
              "      box-shadow: 0px 1px 3px 1px rgba(0, 0, 0, 0.15);\n",
              "      filter: drop-shadow(0px 1px 2px rgba(0, 0, 0, 0.3));\n",
              "      fill: #FFFFFF;\n",
              "    }\n",
              "  </style>\n",
              "\n",
              "    <script>\n",
              "      const buttonEl =\n",
              "        document.querySelector('#df-9eb97f8a-f64a-4f12-84b9-39b920085118 button.colab-df-convert');\n",
              "      buttonEl.style.display =\n",
              "        google.colab.kernel.accessAllowed ? 'block' : 'none';\n",
              "\n",
              "      async function convertToInteractive(key) {\n",
              "        const element = document.querySelector('#df-9eb97f8a-f64a-4f12-84b9-39b920085118');\n",
              "        const dataTable =\n",
              "          await google.colab.kernel.invokeFunction('convertToInteractive',\n",
              "                                                    [key], {});\n",
              "        if (!dataTable) return;\n",
              "\n",
              "        const docLinkHtml = 'Like what you see? Visit the ' +\n",
              "          '<a target=\"_blank\" href=https://colab.research.google.com/notebooks/data_table.ipynb>data table notebook</a>'\n",
              "          + ' to learn more about interactive tables.';\n",
              "        element.innerHTML = '';\n",
              "        dataTable['output_type'] = 'display_data';\n",
              "        await google.colab.output.renderOutput(dataTable, element);\n",
              "        const docLink = document.createElement('div');\n",
              "        docLink.innerHTML = docLinkHtml;\n",
              "        element.appendChild(docLink);\n",
              "      }\n",
              "    </script>\n",
              "  </div>\n",
              "\n",
              "\n",
              "<div id=\"df-26e210b8-966f-4d77-85fa-83f8c4aafb6c\">\n",
              "  <button class=\"colab-df-quickchart\" onclick=\"quickchart('df-26e210b8-966f-4d77-85fa-83f8c4aafb6c')\"\n",
              "            title=\"Suggest charts\"\n",
              "            style=\"display:none;\">\n",
              "\n",
              "<svg xmlns=\"http://www.w3.org/2000/svg\" height=\"24px\"viewBox=\"0 0 24 24\"\n",
              "     width=\"24px\">\n",
              "    <g>\n",
              "        <path d=\"M19 3H5c-1.1 0-2 .9-2 2v14c0 1.1.9 2 2 2h14c1.1 0 2-.9 2-2V5c0-1.1-.9-2-2-2zM9 17H7v-7h2v7zm4 0h-2V7h2v10zm4 0h-2v-4h2v4z\"/>\n",
              "    </g>\n",
              "</svg>\n",
              "  </button>\n",
              "\n",
              "<style>\n",
              "  .colab-df-quickchart {\n",
              "      --bg-color: #E8F0FE;\n",
              "      --fill-color: #1967D2;\n",
              "      --hover-bg-color: #E2EBFA;\n",
              "      --hover-fill-color: #174EA6;\n",
              "      --disabled-fill-color: #AAA;\n",
              "      --disabled-bg-color: #DDD;\n",
              "  }\n",
              "\n",
              "  [theme=dark] .colab-df-quickchart {\n",
              "      --bg-color: #3B4455;\n",
              "      --fill-color: #D2E3FC;\n",
              "      --hover-bg-color: #434B5C;\n",
              "      --hover-fill-color: #FFFFFF;\n",
              "      --disabled-bg-color: #3B4455;\n",
              "      --disabled-fill-color: #666;\n",
              "  }\n",
              "\n",
              "  .colab-df-quickchart {\n",
              "    background-color: var(--bg-color);\n",
              "    border: none;\n",
              "    border-radius: 50%;\n",
              "    cursor: pointer;\n",
              "    display: none;\n",
              "    fill: var(--fill-color);\n",
              "    height: 32px;\n",
              "    padding: 0;\n",
              "    width: 32px;\n",
              "  }\n",
              "\n",
              "  .colab-df-quickchart:hover {\n",
              "    background-color: var(--hover-bg-color);\n",
              "    box-shadow: 0 1px 2px rgba(60, 64, 67, 0.3), 0 1px 3px 1px rgba(60, 64, 67, 0.15);\n",
              "    fill: var(--button-hover-fill-color);\n",
              "  }\n",
              "\n",
              "  .colab-df-quickchart-complete:disabled,\n",
              "  .colab-df-quickchart-complete:disabled:hover {\n",
              "    background-color: var(--disabled-bg-color);\n",
              "    fill: var(--disabled-fill-color);\n",
              "    box-shadow: none;\n",
              "  }\n",
              "\n",
              "  .colab-df-spinner {\n",
              "    border: 2px solid var(--fill-color);\n",
              "    border-color: transparent;\n",
              "    border-bottom-color: var(--fill-color);\n",
              "    animation:\n",
              "      spin 1s steps(1) infinite;\n",
              "  }\n",
              "\n",
              "  @keyframes spin {\n",
              "    0% {\n",
              "      border-color: transparent;\n",
              "      border-bottom-color: var(--fill-color);\n",
              "      border-left-color: var(--fill-color);\n",
              "    }\n",
              "    20% {\n",
              "      border-color: transparent;\n",
              "      border-left-color: var(--fill-color);\n",
              "      border-top-color: var(--fill-color);\n",
              "    }\n",
              "    30% {\n",
              "      border-color: transparent;\n",
              "      border-left-color: var(--fill-color);\n",
              "      border-top-color: var(--fill-color);\n",
              "      border-right-color: var(--fill-color);\n",
              "    }\n",
              "    40% {\n",
              "      border-color: transparent;\n",
              "      border-right-color: var(--fill-color);\n",
              "      border-top-color: var(--fill-color);\n",
              "    }\n",
              "    60% {\n",
              "      border-color: transparent;\n",
              "      border-right-color: var(--fill-color);\n",
              "    }\n",
              "    80% {\n",
              "      border-color: transparent;\n",
              "      border-right-color: var(--fill-color);\n",
              "      border-bottom-color: var(--fill-color);\n",
              "    }\n",
              "    90% {\n",
              "      border-color: transparent;\n",
              "      border-bottom-color: var(--fill-color);\n",
              "    }\n",
              "  }\n",
              "</style>\n",
              "\n",
              "  <script>\n",
              "    async function quickchart(key) {\n",
              "      const quickchartButtonEl =\n",
              "        document.querySelector('#' + key + ' button');\n",
              "      quickchartButtonEl.disabled = true;  // To prevent multiple clicks.\n",
              "      quickchartButtonEl.classList.add('colab-df-spinner');\n",
              "      try {\n",
              "        const charts = await google.colab.kernel.invokeFunction(\n",
              "            'suggestCharts', [key], {});\n",
              "      } catch (error) {\n",
              "        console.error('Error during call to suggestCharts:', error);\n",
              "      }\n",
              "      quickchartButtonEl.classList.remove('colab-df-spinner');\n",
              "      quickchartButtonEl.classList.add('colab-df-quickchart-complete');\n",
              "    }\n",
              "    (() => {\n",
              "      let quickchartButtonEl =\n",
              "        document.querySelector('#df-26e210b8-966f-4d77-85fa-83f8c4aafb6c button');\n",
              "      quickchartButtonEl.style.display =\n",
              "        google.colab.kernel.accessAllowed ? 'block' : 'none';\n",
              "    })();\n",
              "  </script>\n",
              "</div>\n",
              "    </div>\n",
              "  </div>\n"
            ]
          },
          "metadata": {},
          "execution_count": 102
        }
      ]
    },
    {
      "cell_type": "code",
      "source": [
        "df.tail()"
      ],
      "metadata": {
        "colab": {
          "base_uri": "https://localhost:8080/",
          "height": 411
        },
        "id": "22iE1S3qDVkL",
        "outputId": "2e188c3e-d4f6-4150-becf-91c8f85331b9"
      },
      "execution_count": 103,
      "outputs": [
        {
          "output_type": "execute_result",
          "data": {
            "text/plain": [
              "              Suburb        Address  Rooms Type      Price Method   SellerG  \\\n",
              "13575  Wheelers Hill   12 Strada Cr      4    h  1245000.0      S     Barry   \n",
              "13576   Williamstown  77 Merrett Dr      3    h  1031000.0     SP  Williams   \n",
              "13577   Williamstown    83 Power St      3    h  1170000.0      S     Raine   \n",
              "13578   Williamstown   96 Verdon St      4    h  2500000.0     PI   Sweeney   \n",
              "13579     Yarraville     6 Agnes St      4    h  1285000.0     SP   Village   \n",
              "\n",
              "             Date  Distance  Postcode  ...  Bathroom  Car  Landsize  \\\n",
              "13575  26/08/2017      16.7    3150.0  ...       2.0  2.0     652.0   \n",
              "13576  26/08/2017       6.8    3016.0  ...       2.0  2.0     333.0   \n",
              "13577  26/08/2017       6.8    3016.0  ...       2.0  4.0     436.0   \n",
              "13578  26/08/2017       6.8    3016.0  ...       1.0  5.0     866.0   \n",
              "13579  26/08/2017       6.3    3013.0  ...       1.0  1.0     362.0   \n",
              "\n",
              "       BuildingArea  YearBuilt  CouncilArea Lattitude  Longtitude  \\\n",
              "13575           NaN     1981.0          NaN -37.90562   145.16761   \n",
              "13576         133.0     1995.0          NaN -37.85927   144.87904   \n",
              "13577           NaN     1997.0          NaN -37.85274   144.88738   \n",
              "13578         157.0     1920.0          NaN -37.85908   144.89299   \n",
              "13579         112.0     1920.0          NaN -37.81188   144.88449   \n",
              "\n",
              "                       Regionname Propertycount  \n",
              "13575  South-Eastern Metropolitan        7392.0  \n",
              "13576        Western Metropolitan        6380.0  \n",
              "13577        Western Metropolitan        6380.0  \n",
              "13578        Western Metropolitan        6380.0  \n",
              "13579        Western Metropolitan        6543.0  \n",
              "\n",
              "[5 rows x 21 columns]"
            ],
            "text/html": [
              "\n",
              "  <div id=\"df-38f241cf-c27c-4f8c-9a45-8f6d17bf2e06\" class=\"colab-df-container\">\n",
              "    <div>\n",
              "<style scoped>\n",
              "    .dataframe tbody tr th:only-of-type {\n",
              "        vertical-align: middle;\n",
              "    }\n",
              "\n",
              "    .dataframe tbody tr th {\n",
              "        vertical-align: top;\n",
              "    }\n",
              "\n",
              "    .dataframe thead th {\n",
              "        text-align: right;\n",
              "    }\n",
              "</style>\n",
              "<table border=\"1\" class=\"dataframe\">\n",
              "  <thead>\n",
              "    <tr style=\"text-align: right;\">\n",
              "      <th></th>\n",
              "      <th>Suburb</th>\n",
              "      <th>Address</th>\n",
              "      <th>Rooms</th>\n",
              "      <th>Type</th>\n",
              "      <th>Price</th>\n",
              "      <th>Method</th>\n",
              "      <th>SellerG</th>\n",
              "      <th>Date</th>\n",
              "      <th>Distance</th>\n",
              "      <th>Postcode</th>\n",
              "      <th>...</th>\n",
              "      <th>Bathroom</th>\n",
              "      <th>Car</th>\n",
              "      <th>Landsize</th>\n",
              "      <th>BuildingArea</th>\n",
              "      <th>YearBuilt</th>\n",
              "      <th>CouncilArea</th>\n",
              "      <th>Lattitude</th>\n",
              "      <th>Longtitude</th>\n",
              "      <th>Regionname</th>\n",
              "      <th>Propertycount</th>\n",
              "    </tr>\n",
              "  </thead>\n",
              "  <tbody>\n",
              "    <tr>\n",
              "      <th>13575</th>\n",
              "      <td>Wheelers Hill</td>\n",
              "      <td>12 Strada Cr</td>\n",
              "      <td>4</td>\n",
              "      <td>h</td>\n",
              "      <td>1245000.0</td>\n",
              "      <td>S</td>\n",
              "      <td>Barry</td>\n",
              "      <td>26/08/2017</td>\n",
              "      <td>16.7</td>\n",
              "      <td>3150.0</td>\n",
              "      <td>...</td>\n",
              "      <td>2.0</td>\n",
              "      <td>2.0</td>\n",
              "      <td>652.0</td>\n",
              "      <td>NaN</td>\n",
              "      <td>1981.0</td>\n",
              "      <td>NaN</td>\n",
              "      <td>-37.90562</td>\n",
              "      <td>145.16761</td>\n",
              "      <td>South-Eastern Metropolitan</td>\n",
              "      <td>7392.0</td>\n",
              "    </tr>\n",
              "    <tr>\n",
              "      <th>13576</th>\n",
              "      <td>Williamstown</td>\n",
              "      <td>77 Merrett Dr</td>\n",
              "      <td>3</td>\n",
              "      <td>h</td>\n",
              "      <td>1031000.0</td>\n",
              "      <td>SP</td>\n",
              "      <td>Williams</td>\n",
              "      <td>26/08/2017</td>\n",
              "      <td>6.8</td>\n",
              "      <td>3016.0</td>\n",
              "      <td>...</td>\n",
              "      <td>2.0</td>\n",
              "      <td>2.0</td>\n",
              "      <td>333.0</td>\n",
              "      <td>133.0</td>\n",
              "      <td>1995.0</td>\n",
              "      <td>NaN</td>\n",
              "      <td>-37.85927</td>\n",
              "      <td>144.87904</td>\n",
              "      <td>Western Metropolitan</td>\n",
              "      <td>6380.0</td>\n",
              "    </tr>\n",
              "    <tr>\n",
              "      <th>13577</th>\n",
              "      <td>Williamstown</td>\n",
              "      <td>83 Power St</td>\n",
              "      <td>3</td>\n",
              "      <td>h</td>\n",
              "      <td>1170000.0</td>\n",
              "      <td>S</td>\n",
              "      <td>Raine</td>\n",
              "      <td>26/08/2017</td>\n",
              "      <td>6.8</td>\n",
              "      <td>3016.0</td>\n",
              "      <td>...</td>\n",
              "      <td>2.0</td>\n",
              "      <td>4.0</td>\n",
              "      <td>436.0</td>\n",
              "      <td>NaN</td>\n",
              "      <td>1997.0</td>\n",
              "      <td>NaN</td>\n",
              "      <td>-37.85274</td>\n",
              "      <td>144.88738</td>\n",
              "      <td>Western Metropolitan</td>\n",
              "      <td>6380.0</td>\n",
              "    </tr>\n",
              "    <tr>\n",
              "      <th>13578</th>\n",
              "      <td>Williamstown</td>\n",
              "      <td>96 Verdon St</td>\n",
              "      <td>4</td>\n",
              "      <td>h</td>\n",
              "      <td>2500000.0</td>\n",
              "      <td>PI</td>\n",
              "      <td>Sweeney</td>\n",
              "      <td>26/08/2017</td>\n",
              "      <td>6.8</td>\n",
              "      <td>3016.0</td>\n",
              "      <td>...</td>\n",
              "      <td>1.0</td>\n",
              "      <td>5.0</td>\n",
              "      <td>866.0</td>\n",
              "      <td>157.0</td>\n",
              "      <td>1920.0</td>\n",
              "      <td>NaN</td>\n",
              "      <td>-37.85908</td>\n",
              "      <td>144.89299</td>\n",
              "      <td>Western Metropolitan</td>\n",
              "      <td>6380.0</td>\n",
              "    </tr>\n",
              "    <tr>\n",
              "      <th>13579</th>\n",
              "      <td>Yarraville</td>\n",
              "      <td>6 Agnes St</td>\n",
              "      <td>4</td>\n",
              "      <td>h</td>\n",
              "      <td>1285000.0</td>\n",
              "      <td>SP</td>\n",
              "      <td>Village</td>\n",
              "      <td>26/08/2017</td>\n",
              "      <td>6.3</td>\n",
              "      <td>3013.0</td>\n",
              "      <td>...</td>\n",
              "      <td>1.0</td>\n",
              "      <td>1.0</td>\n",
              "      <td>362.0</td>\n",
              "      <td>112.0</td>\n",
              "      <td>1920.0</td>\n",
              "      <td>NaN</td>\n",
              "      <td>-37.81188</td>\n",
              "      <td>144.88449</td>\n",
              "      <td>Western Metropolitan</td>\n",
              "      <td>6543.0</td>\n",
              "    </tr>\n",
              "  </tbody>\n",
              "</table>\n",
              "<p>5 rows × 21 columns</p>\n",
              "</div>\n",
              "    <div class=\"colab-df-buttons\">\n",
              "\n",
              "  <div class=\"colab-df-container\">\n",
              "    <button class=\"colab-df-convert\" onclick=\"convertToInteractive('df-38f241cf-c27c-4f8c-9a45-8f6d17bf2e06')\"\n",
              "            title=\"Convert this dataframe to an interactive table.\"\n",
              "            style=\"display:none;\">\n",
              "\n",
              "  <svg xmlns=\"http://www.w3.org/2000/svg\" height=\"24px\" viewBox=\"0 -960 960 960\">\n",
              "    <path d=\"M120-120v-720h720v720H120Zm60-500h600v-160H180v160Zm220 220h160v-160H400v160Zm0 220h160v-160H400v160ZM180-400h160v-160H180v160Zm440 0h160v-160H620v160ZM180-180h160v-160H180v160Zm440 0h160v-160H620v160Z\"/>\n",
              "  </svg>\n",
              "    </button>\n",
              "\n",
              "  <style>\n",
              "    .colab-df-container {\n",
              "      display:flex;\n",
              "      gap: 12px;\n",
              "    }\n",
              "\n",
              "    .colab-df-convert {\n",
              "      background-color: #E8F0FE;\n",
              "      border: none;\n",
              "      border-radius: 50%;\n",
              "      cursor: pointer;\n",
              "      display: none;\n",
              "      fill: #1967D2;\n",
              "      height: 32px;\n",
              "      padding: 0 0 0 0;\n",
              "      width: 32px;\n",
              "    }\n",
              "\n",
              "    .colab-df-convert:hover {\n",
              "      background-color: #E2EBFA;\n",
              "      box-shadow: 0px 1px 2px rgba(60, 64, 67, 0.3), 0px 1px 3px 1px rgba(60, 64, 67, 0.15);\n",
              "      fill: #174EA6;\n",
              "    }\n",
              "\n",
              "    .colab-df-buttons div {\n",
              "      margin-bottom: 4px;\n",
              "    }\n",
              "\n",
              "    [theme=dark] .colab-df-convert {\n",
              "      background-color: #3B4455;\n",
              "      fill: #D2E3FC;\n",
              "    }\n",
              "\n",
              "    [theme=dark] .colab-df-convert:hover {\n",
              "      background-color: #434B5C;\n",
              "      box-shadow: 0px 1px 3px 1px rgba(0, 0, 0, 0.15);\n",
              "      filter: drop-shadow(0px 1px 2px rgba(0, 0, 0, 0.3));\n",
              "      fill: #FFFFFF;\n",
              "    }\n",
              "  </style>\n",
              "\n",
              "    <script>\n",
              "      const buttonEl =\n",
              "        document.querySelector('#df-38f241cf-c27c-4f8c-9a45-8f6d17bf2e06 button.colab-df-convert');\n",
              "      buttonEl.style.display =\n",
              "        google.colab.kernel.accessAllowed ? 'block' : 'none';\n",
              "\n",
              "      async function convertToInteractive(key) {\n",
              "        const element = document.querySelector('#df-38f241cf-c27c-4f8c-9a45-8f6d17bf2e06');\n",
              "        const dataTable =\n",
              "          await google.colab.kernel.invokeFunction('convertToInteractive',\n",
              "                                                    [key], {});\n",
              "        if (!dataTable) return;\n",
              "\n",
              "        const docLinkHtml = 'Like what you see? Visit the ' +\n",
              "          '<a target=\"_blank\" href=https://colab.research.google.com/notebooks/data_table.ipynb>data table notebook</a>'\n",
              "          + ' to learn more about interactive tables.';\n",
              "        element.innerHTML = '';\n",
              "        dataTable['output_type'] = 'display_data';\n",
              "        await google.colab.output.renderOutput(dataTable, element);\n",
              "        const docLink = document.createElement('div');\n",
              "        docLink.innerHTML = docLinkHtml;\n",
              "        element.appendChild(docLink);\n",
              "      }\n",
              "    </script>\n",
              "  </div>\n",
              "\n",
              "\n",
              "<div id=\"df-150189bd-4b65-40bf-af4a-16fcc3080cd5\">\n",
              "  <button class=\"colab-df-quickchart\" onclick=\"quickchart('df-150189bd-4b65-40bf-af4a-16fcc3080cd5')\"\n",
              "            title=\"Suggest charts\"\n",
              "            style=\"display:none;\">\n",
              "\n",
              "<svg xmlns=\"http://www.w3.org/2000/svg\" height=\"24px\"viewBox=\"0 0 24 24\"\n",
              "     width=\"24px\">\n",
              "    <g>\n",
              "        <path d=\"M19 3H5c-1.1 0-2 .9-2 2v14c0 1.1.9 2 2 2h14c1.1 0 2-.9 2-2V5c0-1.1-.9-2-2-2zM9 17H7v-7h2v7zm4 0h-2V7h2v10zm4 0h-2v-4h2v4z\"/>\n",
              "    </g>\n",
              "</svg>\n",
              "  </button>\n",
              "\n",
              "<style>\n",
              "  .colab-df-quickchart {\n",
              "      --bg-color: #E8F0FE;\n",
              "      --fill-color: #1967D2;\n",
              "      --hover-bg-color: #E2EBFA;\n",
              "      --hover-fill-color: #174EA6;\n",
              "      --disabled-fill-color: #AAA;\n",
              "      --disabled-bg-color: #DDD;\n",
              "  }\n",
              "\n",
              "  [theme=dark] .colab-df-quickchart {\n",
              "      --bg-color: #3B4455;\n",
              "      --fill-color: #D2E3FC;\n",
              "      --hover-bg-color: #434B5C;\n",
              "      --hover-fill-color: #FFFFFF;\n",
              "      --disabled-bg-color: #3B4455;\n",
              "      --disabled-fill-color: #666;\n",
              "  }\n",
              "\n",
              "  .colab-df-quickchart {\n",
              "    background-color: var(--bg-color);\n",
              "    border: none;\n",
              "    border-radius: 50%;\n",
              "    cursor: pointer;\n",
              "    display: none;\n",
              "    fill: var(--fill-color);\n",
              "    height: 32px;\n",
              "    padding: 0;\n",
              "    width: 32px;\n",
              "  }\n",
              "\n",
              "  .colab-df-quickchart:hover {\n",
              "    background-color: var(--hover-bg-color);\n",
              "    box-shadow: 0 1px 2px rgba(60, 64, 67, 0.3), 0 1px 3px 1px rgba(60, 64, 67, 0.15);\n",
              "    fill: var(--button-hover-fill-color);\n",
              "  }\n",
              "\n",
              "  .colab-df-quickchart-complete:disabled,\n",
              "  .colab-df-quickchart-complete:disabled:hover {\n",
              "    background-color: var(--disabled-bg-color);\n",
              "    fill: var(--disabled-fill-color);\n",
              "    box-shadow: none;\n",
              "  }\n",
              "\n",
              "  .colab-df-spinner {\n",
              "    border: 2px solid var(--fill-color);\n",
              "    border-color: transparent;\n",
              "    border-bottom-color: var(--fill-color);\n",
              "    animation:\n",
              "      spin 1s steps(1) infinite;\n",
              "  }\n",
              "\n",
              "  @keyframes spin {\n",
              "    0% {\n",
              "      border-color: transparent;\n",
              "      border-bottom-color: var(--fill-color);\n",
              "      border-left-color: var(--fill-color);\n",
              "    }\n",
              "    20% {\n",
              "      border-color: transparent;\n",
              "      border-left-color: var(--fill-color);\n",
              "      border-top-color: var(--fill-color);\n",
              "    }\n",
              "    30% {\n",
              "      border-color: transparent;\n",
              "      border-left-color: var(--fill-color);\n",
              "      border-top-color: var(--fill-color);\n",
              "      border-right-color: var(--fill-color);\n",
              "    }\n",
              "    40% {\n",
              "      border-color: transparent;\n",
              "      border-right-color: var(--fill-color);\n",
              "      border-top-color: var(--fill-color);\n",
              "    }\n",
              "    60% {\n",
              "      border-color: transparent;\n",
              "      border-right-color: var(--fill-color);\n",
              "    }\n",
              "    80% {\n",
              "      border-color: transparent;\n",
              "      border-right-color: var(--fill-color);\n",
              "      border-bottom-color: var(--fill-color);\n",
              "    }\n",
              "    90% {\n",
              "      border-color: transparent;\n",
              "      border-bottom-color: var(--fill-color);\n",
              "    }\n",
              "  }\n",
              "</style>\n",
              "\n",
              "  <script>\n",
              "    async function quickchart(key) {\n",
              "      const quickchartButtonEl =\n",
              "        document.querySelector('#' + key + ' button');\n",
              "      quickchartButtonEl.disabled = true;  // To prevent multiple clicks.\n",
              "      quickchartButtonEl.classList.add('colab-df-spinner');\n",
              "      try {\n",
              "        const charts = await google.colab.kernel.invokeFunction(\n",
              "            'suggestCharts', [key], {});\n",
              "      } catch (error) {\n",
              "        console.error('Error during call to suggestCharts:', error);\n",
              "      }\n",
              "      quickchartButtonEl.classList.remove('colab-df-spinner');\n",
              "      quickchartButtonEl.classList.add('colab-df-quickchart-complete');\n",
              "    }\n",
              "    (() => {\n",
              "      let quickchartButtonEl =\n",
              "        document.querySelector('#df-150189bd-4b65-40bf-af4a-16fcc3080cd5 button');\n",
              "      quickchartButtonEl.style.display =\n",
              "        google.colab.kernel.accessAllowed ? 'block' : 'none';\n",
              "    })();\n",
              "  </script>\n",
              "</div>\n",
              "    </div>\n",
              "  </div>\n"
            ]
          },
          "metadata": {},
          "execution_count": 103
        }
      ]
    },
    {
      "cell_type": "code",
      "source": [
        "df.info()"
      ],
      "metadata": {
        "colab": {
          "base_uri": "https://localhost:8080/"
        },
        "id": "SOvzN7rmDWqo",
        "outputId": "71c7e033-08be-43c0-8412-77b62c419390"
      },
      "execution_count": 104,
      "outputs": [
        {
          "output_type": "stream",
          "name": "stdout",
          "text": [
            "<class 'pandas.core.frame.DataFrame'>\n",
            "RangeIndex: 13580 entries, 0 to 13579\n",
            "Data columns (total 21 columns):\n",
            " #   Column         Non-Null Count  Dtype  \n",
            "---  ------         --------------  -----  \n",
            " 0   Suburb         13580 non-null  object \n",
            " 1   Address        13580 non-null  object \n",
            " 2   Rooms          13580 non-null  int64  \n",
            " 3   Type           13580 non-null  object \n",
            " 4   Price          13580 non-null  float64\n",
            " 5   Method         13580 non-null  object \n",
            " 6   SellerG        13580 non-null  object \n",
            " 7   Date           13580 non-null  object \n",
            " 8   Distance       13580 non-null  float64\n",
            " 9   Postcode       13580 non-null  float64\n",
            " 10  Bedroom2       13580 non-null  float64\n",
            " 11  Bathroom       13580 non-null  float64\n",
            " 12  Car            13518 non-null  float64\n",
            " 13  Landsize       13580 non-null  float64\n",
            " 14  BuildingArea   7130 non-null   float64\n",
            " 15  YearBuilt      8205 non-null   float64\n",
            " 16  CouncilArea    12211 non-null  object \n",
            " 17  Lattitude      13580 non-null  float64\n",
            " 18  Longtitude     13580 non-null  float64\n",
            " 19  Regionname     13580 non-null  object \n",
            " 20  Propertycount  13580 non-null  float64\n",
            "dtypes: float64(12), int64(1), object(8)\n",
            "memory usage: 2.2+ MB\n"
          ]
        }
      ]
    },
    {
      "cell_type": "markdown",
      "source": [
        "### Check for Missing Data"
      ],
      "metadata": {
        "id": "tfhZqOJNE7WP"
      }
    },
    {
      "cell_type": "code",
      "source": [
        "df.isnull().sum()"
      ],
      "metadata": {
        "colab": {
          "base_uri": "https://localhost:8080/"
        },
        "id": "6Frnhk5-FNdL",
        "outputId": "81dbd59b-e1b5-4f80-a816-0269f063f4c9"
      },
      "execution_count": 105,
      "outputs": [
        {
          "output_type": "execute_result",
          "data": {
            "text/plain": [
              "Suburb              0\n",
              "Address             0\n",
              "Rooms               0\n",
              "Type                0\n",
              "Price               0\n",
              "Method              0\n",
              "SellerG             0\n",
              "Date                0\n",
              "Distance            0\n",
              "Postcode            0\n",
              "Bedroom2            0\n",
              "Bathroom            0\n",
              "Car                62\n",
              "Landsize            0\n",
              "BuildingArea     6450\n",
              "YearBuilt        5375\n",
              "CouncilArea      1369\n",
              "Lattitude           0\n",
              "Longtitude          0\n",
              "Regionname          0\n",
              "Propertycount       0\n",
              "dtype: int64"
            ]
          },
          "metadata": {},
          "execution_count": 105
        }
      ]
    },
    {
      "cell_type": "markdown",
      "source": [
        "### Check for Data Duplicate"
      ],
      "metadata": {
        "id": "-Bw4omm5FASR"
      }
    },
    {
      "cell_type": "code",
      "source": [
        "df.duplicated().sum()"
      ],
      "metadata": {
        "colab": {
          "base_uri": "https://localhost:8080/"
        },
        "id": "nLsqyyt4DYBs",
        "outputId": "ae1a090b-466d-4e21-c850-9defb8cb8f15"
      },
      "execution_count": 106,
      "outputs": [
        {
          "output_type": "execute_result",
          "data": {
            "text/plain": [
              "0"
            ]
          },
          "metadata": {},
          "execution_count": 106
        }
      ]
    },
    {
      "cell_type": "markdown",
      "source": [
        "## Data Cleaning"
      ],
      "metadata": {
        "id": "NisTSmQ3FrWU"
      }
    },
    {
      "cell_type": "markdown",
      "source": [
        "To convert the data types of the variables YearBuilt and Car from  float64 type to Int64"
      ],
      "metadata": {
        "id": "wGen1zFGFxKY"
      }
    },
    {
      "cell_type": "code",
      "source": [
        "df['YearBuilt'] = df['YearBuilt'].astype('Int64')\n",
        "df['Car'] = df['Car'].astype('Int64')\n",
        "df.info()"
      ],
      "metadata": {
        "colab": {
          "base_uri": "https://localhost:8080/"
        },
        "id": "CUGpGezqFccx",
        "outputId": "1677e88f-65f4-4013-86a4-35a1939a5172"
      },
      "execution_count": 107,
      "outputs": [
        {
          "output_type": "stream",
          "name": "stdout",
          "text": [
            "<class 'pandas.core.frame.DataFrame'>\n",
            "RangeIndex: 13580 entries, 0 to 13579\n",
            "Data columns (total 21 columns):\n",
            " #   Column         Non-Null Count  Dtype  \n",
            "---  ------         --------------  -----  \n",
            " 0   Suburb         13580 non-null  object \n",
            " 1   Address        13580 non-null  object \n",
            " 2   Rooms          13580 non-null  int64  \n",
            " 3   Type           13580 non-null  object \n",
            " 4   Price          13580 non-null  float64\n",
            " 5   Method         13580 non-null  object \n",
            " 6   SellerG        13580 non-null  object \n",
            " 7   Date           13580 non-null  object \n",
            " 8   Distance       13580 non-null  float64\n",
            " 9   Postcode       13580 non-null  float64\n",
            " 10  Bedroom2       13580 non-null  float64\n",
            " 11  Bathroom       13580 non-null  float64\n",
            " 12  Car            13518 non-null  Int64  \n",
            " 13  Landsize       13580 non-null  float64\n",
            " 14  BuildingArea   7130 non-null   float64\n",
            " 15  YearBuilt      8205 non-null   Int64  \n",
            " 16  CouncilArea    12211 non-null  object \n",
            " 17  Lattitude      13580 non-null  float64\n",
            " 18  Longtitude     13580 non-null  float64\n",
            " 19  Regionname     13580 non-null  object \n",
            " 20  Propertycount  13580 non-null  float64\n",
            "dtypes: Int64(2), float64(10), int64(1), object(8)\n",
            "memory usage: 2.2+ MB\n"
          ]
        }
      ]
    },
    {
      "cell_type": "markdown",
      "source": [
        "Handling Missing Data"
      ],
      "metadata": {
        "id": "_fyVLfRfGiMl"
      }
    },
    {
      "cell_type": "markdown",
      "source": [
        ">\"It is known that there are 4 columns with missing values (null values), namely Car, BuildingArea, YearBuilt, and Council Area.\n",
        "\n",
        ">For handling missing values, I am using imputation. For categorical variables such as the Car and CouncilArea columns, we decided to impute using the mode (most frequent value). For numeric variables like BuildingArea and YearBuilt, we are using imputation with the mean and median values.\""
      ],
      "metadata": {
        "id": "9swXf9T_Hbiq"
      }
    },
    {
      "cell_type": "markdown",
      "source": [
        ">Handling missing values in the \"Car\" column by imputing them using the mode value."
      ],
      "metadata": {
        "id": "f3cmiskJHl9E"
      }
    },
    {
      "cell_type": "code",
      "source": [
        "mode_car = df['Car'].mode()[0]\n",
        "df['Car'].fillna(mode_car, inplace=True)"
      ],
      "metadata": {
        "id": "VHb9KD9pGjt1"
      },
      "execution_count": 108,
      "outputs": []
    },
    {
      "cell_type": "markdown",
      "source": [
        ">Handling missing values in the \"BuildingArea\" column by imputing them using the mean value."
      ],
      "metadata": {
        "id": "djRGNGpNH8n_"
      }
    },
    {
      "cell_type": "code",
      "source": [
        "mean_building_area = df['BuildingArea'].mean()\n",
        "df['BuildingArea'].fillna(round(mean_building_area), inplace=True)"
      ],
      "metadata": {
        "id": "X6ZlhEnxIFPo"
      },
      "execution_count": 109,
      "outputs": []
    },
    {
      "cell_type": "markdown",
      "source": [
        ">Handling missing values in the \"YearBuilt\" column by imputing them using the median value."
      ],
      "metadata": {
        "id": "1HnJTsL_IIGT"
      }
    },
    {
      "cell_type": "code",
      "source": [
        "median_year_built = df['YearBuilt'].median()\n",
        "df['YearBuilt'].fillna(median_year_built, inplace=True)"
      ],
      "metadata": {
        "id": "xTE24RSWIM8n"
      },
      "execution_count": 110,
      "outputs": []
    },
    {
      "cell_type": "markdown",
      "source": [
        ">Handling missing values in the \"CouncilArea\" column by imputing them using the mode value."
      ],
      "metadata": {
        "id": "wfwEiNlzIPNi"
      }
    },
    {
      "cell_type": "code",
      "source": [
        "mode_council_area = df['CouncilArea'].mode()[0]\n",
        "df['CouncilArea'].fillna(mode_council_area, inplace=True)"
      ],
      "metadata": {
        "id": "jWcCCjNpIV3g"
      },
      "execution_count": 111,
      "outputs": []
    },
    {
      "cell_type": "markdown",
      "source": [
        "\n",
        ">Check the dataset after handling missing data."
      ],
      "metadata": {
        "id": "V-jbT2G0ImLa"
      }
    },
    {
      "cell_type": "code",
      "source": [
        "df.isnull().sum()"
      ],
      "metadata": {
        "colab": {
          "base_uri": "https://localhost:8080/"
        },
        "id": "Rc99BuxxIZXh",
        "outputId": "17d6ecf4-b7ba-4fb4-ca66-1e0f6088dcb8"
      },
      "execution_count": 112,
      "outputs": [
        {
          "output_type": "execute_result",
          "data": {
            "text/plain": [
              "Suburb           0\n",
              "Address          0\n",
              "Rooms            0\n",
              "Type             0\n",
              "Price            0\n",
              "Method           0\n",
              "SellerG          0\n",
              "Date             0\n",
              "Distance         0\n",
              "Postcode         0\n",
              "Bedroom2         0\n",
              "Bathroom         0\n",
              "Car              0\n",
              "Landsize         0\n",
              "BuildingArea     0\n",
              "YearBuilt        0\n",
              "CouncilArea      0\n",
              "Lattitude        0\n",
              "Longtitude       0\n",
              "Regionname       0\n",
              "Propertycount    0\n",
              "dtype: int64"
            ]
          },
          "metadata": {},
          "execution_count": 112
        }
      ]
    },
    {
      "cell_type": "markdown",
      "source": [
        "Text Normalization"
      ],
      "metadata": {
        "id": "O5L4DjKPI1Nx"
      }
    },
    {
      "cell_type": "code",
      "source": [
        "print(df['SellerG'].unique())"
      ],
      "metadata": {
        "colab": {
          "base_uri": "https://localhost:8080/"
        },
        "id": "O9Gf0iISIbJH",
        "outputId": "b3a6e08b-e401-46aa-91ac-70f885a96049"
      },
      "execution_count": 113,
      "outputs": [
        {
          "output_type": "stream",
          "name": "stdout",
          "text": [
            "['Biggin' 'Nelson' 'Jellis' 'Greg' 'LITTLE' 'Collins' 'Kay' 'Beller'\n",
            " 'Marshall' 'Brad' 'Maddison' 'Barry' 'Considine' 'Rendina' 'Propertyau'\n",
            " 'McDonald' 'Prof.' 'Harcourts' 'hockingstuart' 'Thomson' 'Buxton' 'RT'\n",
            " \"Sotheby's\" 'Cayzer' 'Chisholm' 'Brace' 'Miles' 'McGrath' 'Love' 'Barlow'\n",
            " 'Sweeney' 'Village' 'Jas' 'Gunn&Co' 'Burnham' 'Williams' 'Compton' 'FN'\n",
            " 'Raine&Horne' 'Hunter' 'Noel' 'Hodges' 'Ray' 'Gary' 'Fletchers'\n",
            " 'Woodards' 'Raine' 'Walshe' 'Alexkarbon' 'Weda' 'Frank' 'Stockdale' 'Tim'\n",
            " 'Purplebricks' 'Moonee' 'HAR' 'Edward' 'Philip' 'RW' 'North' 'Ascend'\n",
            " 'Christopher' 'Mandy' 'R&H' 'Fletchers/One' 'Assisi' 'One' \"O'Brien\"\n",
            " 'C21' 'Bayside' 'Paul' 'First' 'Matthew' 'Anderson' 'Nick' 'Lindellas'\n",
            " 'Allens' 'Bells' 'Trimson' 'Douglas' 'YPA' 'GL' \"Tiernan's\" 'J'\n",
            " 'Harrington' 'Dingle' 'Chambers' 'Peter' 'Grantham'\n",
            " 'hockingstuart/Advantage' \"O'Donoghues\" 'Bekdon' 'Ross' 'Garvey' 'Weast'\n",
            " 'Century' 'Kelly' 'Property' \"Private/Tiernan's\" 'Australian' 'Rodney'\n",
            " \"Abercromby's\" 'Castran' 'iTRAK' 'Del' 'Nicholson' 'ASL' 'Re' 'RE'\n",
            " 'Darren' 'Parkes' 'Vic' 'Holland' 'Scott' 'Pride' 'Owen' 'Morleys'\n",
            " 'Wilson' 'Buxton/Advantage' 'Pagan' 'Joe' 'Red' 'Thomas' 'Caine' 'Naison'\n",
            " 'Sweeney/Advantage' 'Jason' 'Eview' 'Melbourne' \"D'Aprano\" 'CASTRAN'\n",
            " 'Morrison' 'Wood' 'Haughton' 'William' 'Coventry' 'Buckingham' 'Domain'\n",
            " 'Nardella' 'Reach' 'Walsh' 'LJ' 'Nguyen' 'Direct' 'Besser' 'Johnston'\n",
            " 'Redina' 'Clairmont' 'Changing' 'Galldon' 'MICM' 'Elite' 'Buxton/Find'\n",
            " 'W.B.' 'Leased' 'New' 'Geoff' 'hockingstuart/Barry' 'Blue' 'Whiting'\n",
            " 'Steveway' 'Parkinson' 'VICPROP' 'Charlton' 'S&L' 'Calder' 'Homes' 'Zahn'\n",
            " 'Mason' 'David' 'Dixon' 'Luxe' 'Prowse' 'Ken' 'iOne'\n",
            " 'hockingstuart/Village' 'JMRE' 'Iconek' 'Crane' 'Luxton' 'Hooper' 'Oak'\n",
            " 'White' 'Weston' 'Reed' 'Oriental' 'Craig' 'Max' 'Rosin' 'Real' 'Hall'\n",
            " 'Ham' 'buyMyplace' 'WHITEFOX' 'Metro' 'Hoskins' 'McLennan'\n",
            " 'PRDNationwide' 'Only' 'Obrien' 'Reliance' 'Lucas' 'Rounds' 'Millership'\n",
            " 'iSell' 'Appleby' '@Realty' 'Jim' 'Ace' 'JRW' 'Carter' 'M.J' 'iProperty'\n",
            " 'Triwest' 'Hayeswinckle' 'Schroeder' 'VICProp' 'REMAX' 'Victory' 'Smart'\n",
            " 'Mindacom' 'Ryder' 'Win' 'Asset' 'LLC' 'Mitchell' 'U' 'Leyton' 'Conquest'\n",
            " 'Prime' 'Community' 'Free' 'Veitch' 'Peake' 'Sell' 'Ristic' 'Ash' 'Upper'\n",
            " 'Daniel' 'Xynergy' 'Westside' 'Leeburn' 'TRUE' 'Keatings' 'Leading'\n",
            " 'Bullen' 'Better' 'Aquire' 'Langwell' 'Gardiner' 'Kaye' 'Nicholls'\n",
            " 'Bowman' 'Meadows' 'McNaughton' 'The' 'L' 'Darras' 'Roger' 'Follett' 'Le'\n",
            " 'Joseph' 'Boutique' 'Area' 'SN' 'PRD' 'Rexhepi' 'Point']\n"
          ]
        }
      ]
    },
    {
      "cell_type": "markdown",
      "source": [
        ">In the above data, inconsistencies in text are observed, requiring text normalization"
      ],
      "metadata": {
        "id": "Glaq5mmiI7ss"
      }
    },
    {
      "cell_type": "code",
      "source": [
        "# Making the text capitalized for each word.\n",
        "df['SellerG'] = df['SellerG'].str.title()"
      ],
      "metadata": {
        "id": "H8LWprn-JkVG"
      },
      "execution_count": 114,
      "outputs": []
    },
    {
      "cell_type": "code",
      "source": [
        "print(df['SellerG'].unique())"
      ],
      "metadata": {
        "colab": {
          "base_uri": "https://localhost:8080/"
        },
        "id": "XkMZB7t6KB8y",
        "outputId": "0050808a-f55f-4071-f7ca-edea0a49eb56"
      },
      "execution_count": 115,
      "outputs": [
        {
          "output_type": "stream",
          "name": "stdout",
          "text": [
            "['Biggin' 'Nelson' 'Jellis' 'Greg' 'Little' 'Collins' 'Kay' 'Beller'\n",
            " 'Marshall' 'Brad' 'Maddison' 'Barry' 'Considine' 'Rendina' 'Propertyau'\n",
            " 'Mcdonald' 'Prof.' 'Harcourts' 'Hockingstuart' 'Thomson' 'Buxton' 'Rt'\n",
            " \"Sotheby'S\" 'Cayzer' 'Chisholm' 'Brace' 'Miles' 'Mcgrath' 'Love' 'Barlow'\n",
            " 'Sweeney' 'Village' 'Jas' 'Gunn&Co' 'Burnham' 'Williams' 'Compton' 'Fn'\n",
            " 'Raine&Horne' 'Hunter' 'Noel' 'Hodges' 'Ray' 'Gary' 'Fletchers'\n",
            " 'Woodards' 'Raine' 'Walshe' 'Alexkarbon' 'Weda' 'Frank' 'Stockdale' 'Tim'\n",
            " 'Purplebricks' 'Moonee' 'Har' 'Edward' 'Philip' 'Rw' 'North' 'Ascend'\n",
            " 'Christopher' 'Mandy' 'R&H' 'Fletchers/One' 'Assisi' 'One' \"O'Brien\"\n",
            " 'C21' 'Bayside' 'Paul' 'First' 'Matthew' 'Anderson' 'Nick' 'Lindellas'\n",
            " 'Allens' 'Bells' 'Trimson' 'Douglas' 'Ypa' 'Gl' \"Tiernan'S\" 'J'\n",
            " 'Harrington' 'Dingle' 'Chambers' 'Peter' 'Grantham'\n",
            " 'Hockingstuart/Advantage' \"O'Donoghues\" 'Bekdon' 'Ross' 'Garvey' 'Weast'\n",
            " 'Century' 'Kelly' 'Property' \"Private/Tiernan'S\" 'Australian' 'Rodney'\n",
            " \"Abercromby'S\" 'Castran' 'Itrak' 'Del' 'Nicholson' 'Asl' 'Re' 'Darren'\n",
            " 'Parkes' 'Vic' 'Holland' 'Scott' 'Pride' 'Owen' 'Morleys' 'Wilson'\n",
            " 'Buxton/Advantage' 'Pagan' 'Joe' 'Red' 'Thomas' 'Caine' 'Naison'\n",
            " 'Sweeney/Advantage' 'Jason' 'Eview' 'Melbourne' \"D'Aprano\" 'Morrison'\n",
            " 'Wood' 'Haughton' 'William' 'Coventry' 'Buckingham' 'Domain' 'Nardella'\n",
            " 'Reach' 'Walsh' 'Lj' 'Nguyen' 'Direct' 'Besser' 'Johnston' 'Redina'\n",
            " 'Clairmont' 'Changing' 'Galldon' 'Micm' 'Elite' 'Buxton/Find' 'W.B.'\n",
            " 'Leased' 'New' 'Geoff' 'Hockingstuart/Barry' 'Blue' 'Whiting' 'Steveway'\n",
            " 'Parkinson' 'Vicprop' 'Charlton' 'S&L' 'Calder' 'Homes' 'Zahn' 'Mason'\n",
            " 'David' 'Dixon' 'Luxe' 'Prowse' 'Ken' 'Ione' 'Hockingstuart/Village'\n",
            " 'Jmre' 'Iconek' 'Crane' 'Luxton' 'Hooper' 'Oak' 'White' 'Weston' 'Reed'\n",
            " 'Oriental' 'Craig' 'Max' 'Rosin' 'Real' 'Hall' 'Ham' 'Buymyplace'\n",
            " 'Whitefox' 'Metro' 'Hoskins' 'Mclennan' 'Prdnationwide' 'Only' 'Obrien'\n",
            " 'Reliance' 'Lucas' 'Rounds' 'Millership' 'Isell' 'Appleby' '@Realty'\n",
            " 'Jim' 'Ace' 'Jrw' 'Carter' 'M.J' 'Iproperty' 'Triwest' 'Hayeswinckle'\n",
            " 'Schroeder' 'Remax' 'Victory' 'Smart' 'Mindacom' 'Ryder' 'Win' 'Asset'\n",
            " 'Llc' 'Mitchell' 'U' 'Leyton' 'Conquest' 'Prime' 'Community' 'Free'\n",
            " 'Veitch' 'Peake' 'Sell' 'Ristic' 'Ash' 'Upper' 'Daniel' 'Xynergy'\n",
            " 'Westside' 'Leeburn' 'True' 'Keatings' 'Leading' 'Bullen' 'Better'\n",
            " 'Aquire' 'Langwell' 'Gardiner' 'Kaye' 'Nicholls' 'Bowman' 'Meadows'\n",
            " 'Mcnaughton' 'The' 'L' 'Darras' 'Roger' 'Follett' 'Le' 'Joseph'\n",
            " 'Boutique' 'Area' 'Sn' 'Prd' 'Rexhepi' 'Point']\n"
          ]
        }
      ]
    },
    {
      "cell_type": "markdown",
      "source": [
        ">In the above data, there is a unique symbol (@) that needs to be removed."
      ],
      "metadata": {
        "id": "E767LaP6K-Id"
      }
    },
    {
      "cell_type": "code",
      "source": [
        "df['SellerG'] = df['SellerG'].str.replace(\"@\", \"\")\n",
        "print(df['SellerG'])"
      ],
      "metadata": {
        "colab": {
          "base_uri": "https://localhost:8080/"
        },
        "id": "hIiFtAMKK_e4",
        "outputId": "050485ba-f7ca-4a90-9a5b-12c338c5d1e0"
      },
      "execution_count": 116,
      "outputs": [
        {
          "output_type": "stream",
          "name": "stdout",
          "text": [
            "0          Biggin\n",
            "1          Biggin\n",
            "2          Biggin\n",
            "3          Biggin\n",
            "4          Nelson\n",
            "           ...   \n",
            "13575       Barry\n",
            "13576    Williams\n",
            "13577       Raine\n",
            "13578     Sweeney\n",
            "13579     Village\n",
            "Name: SellerG, Length: 13580, dtype: object\n"
          ]
        }
      ]
    },
    {
      "cell_type": "code",
      "source": [
        "print(df['SellerG'].unique())"
      ],
      "metadata": {
        "colab": {
          "base_uri": "https://localhost:8080/"
        },
        "id": "4V9vB39VLnEq",
        "outputId": "42c40475-66ea-46ad-f844-438bf18c8215"
      },
      "execution_count": 117,
      "outputs": [
        {
          "output_type": "stream",
          "name": "stdout",
          "text": [
            "['Biggin' 'Nelson' 'Jellis' 'Greg' 'Little' 'Collins' 'Kay' 'Beller'\n",
            " 'Marshall' 'Brad' 'Maddison' 'Barry' 'Considine' 'Rendina' 'Propertyau'\n",
            " 'Mcdonald' 'Prof.' 'Harcourts' 'Hockingstuart' 'Thomson' 'Buxton' 'Rt'\n",
            " \"Sotheby'S\" 'Cayzer' 'Chisholm' 'Brace' 'Miles' 'Mcgrath' 'Love' 'Barlow'\n",
            " 'Sweeney' 'Village' 'Jas' 'Gunn&Co' 'Burnham' 'Williams' 'Compton' 'Fn'\n",
            " 'Raine&Horne' 'Hunter' 'Noel' 'Hodges' 'Ray' 'Gary' 'Fletchers'\n",
            " 'Woodards' 'Raine' 'Walshe' 'Alexkarbon' 'Weda' 'Frank' 'Stockdale' 'Tim'\n",
            " 'Purplebricks' 'Moonee' 'Har' 'Edward' 'Philip' 'Rw' 'North' 'Ascend'\n",
            " 'Christopher' 'Mandy' 'R&H' 'Fletchers/One' 'Assisi' 'One' \"O'Brien\"\n",
            " 'C21' 'Bayside' 'Paul' 'First' 'Matthew' 'Anderson' 'Nick' 'Lindellas'\n",
            " 'Allens' 'Bells' 'Trimson' 'Douglas' 'Ypa' 'Gl' \"Tiernan'S\" 'J'\n",
            " 'Harrington' 'Dingle' 'Chambers' 'Peter' 'Grantham'\n",
            " 'Hockingstuart/Advantage' \"O'Donoghues\" 'Bekdon' 'Ross' 'Garvey' 'Weast'\n",
            " 'Century' 'Kelly' 'Property' \"Private/Tiernan'S\" 'Australian' 'Rodney'\n",
            " \"Abercromby'S\" 'Castran' 'Itrak' 'Del' 'Nicholson' 'Asl' 'Re' 'Darren'\n",
            " 'Parkes' 'Vic' 'Holland' 'Scott' 'Pride' 'Owen' 'Morleys' 'Wilson'\n",
            " 'Buxton/Advantage' 'Pagan' 'Joe' 'Red' 'Thomas' 'Caine' 'Naison'\n",
            " 'Sweeney/Advantage' 'Jason' 'Eview' 'Melbourne' \"D'Aprano\" 'Morrison'\n",
            " 'Wood' 'Haughton' 'William' 'Coventry' 'Buckingham' 'Domain' 'Nardella'\n",
            " 'Reach' 'Walsh' 'Lj' 'Nguyen' 'Direct' 'Besser' 'Johnston' 'Redina'\n",
            " 'Clairmont' 'Changing' 'Galldon' 'Micm' 'Elite' 'Buxton/Find' 'W.B.'\n",
            " 'Leased' 'New' 'Geoff' 'Hockingstuart/Barry' 'Blue' 'Whiting' 'Steveway'\n",
            " 'Parkinson' 'Vicprop' 'Charlton' 'S&L' 'Calder' 'Homes' 'Zahn' 'Mason'\n",
            " 'David' 'Dixon' 'Luxe' 'Prowse' 'Ken' 'Ione' 'Hockingstuart/Village'\n",
            " 'Jmre' 'Iconek' 'Crane' 'Luxton' 'Hooper' 'Oak' 'White' 'Weston' 'Reed'\n",
            " 'Oriental' 'Craig' 'Max' 'Rosin' 'Real' 'Hall' 'Ham' 'Buymyplace'\n",
            " 'Whitefox' 'Metro' 'Hoskins' 'Mclennan' 'Prdnationwide' 'Only' 'Obrien'\n",
            " 'Reliance' 'Lucas' 'Rounds' 'Millership' 'Isell' 'Appleby' 'Realty' 'Jim'\n",
            " 'Ace' 'Jrw' 'Carter' 'M.J' 'Iproperty' 'Triwest' 'Hayeswinckle'\n",
            " 'Schroeder' 'Remax' 'Victory' 'Smart' 'Mindacom' 'Ryder' 'Win' 'Asset'\n",
            " 'Llc' 'Mitchell' 'U' 'Leyton' 'Conquest' 'Prime' 'Community' 'Free'\n",
            " 'Veitch' 'Peake' 'Sell' 'Ristic' 'Ash' 'Upper' 'Daniel' 'Xynergy'\n",
            " 'Westside' 'Leeburn' 'True' 'Keatings' 'Leading' 'Bullen' 'Better'\n",
            " 'Aquire' 'Langwell' 'Gardiner' 'Kaye' 'Nicholls' 'Bowman' 'Meadows'\n",
            " 'Mcnaughton' 'The' 'L' 'Darras' 'Roger' 'Follett' 'Le' 'Joseph'\n",
            " 'Boutique' 'Area' 'Sn' 'Prd' 'Rexhepi' 'Point']\n"
          ]
        }
      ]
    },
    {
      "cell_type": "markdown",
      "source": [
        "## Detecting and Handling Outliers"
      ],
      "metadata": {
        "id": "Ih2XF1fJMapN"
      }
    },
    {
      "cell_type": "markdown",
      "source": [
        "### Detecting Outliers"
      ],
      "metadata": {
        "id": "GbtskTsONHpV"
      }
    },
    {
      "cell_type": "markdown",
      "source": [
        "Detecting Outliers Using IQR Method"
      ],
      "metadata": {
        "id": "oQOLp_9oNJpG"
      }
    },
    {
      "cell_type": "code",
      "source": [
        "# Identify outliers using IQR\n",
        "Q1 = df.quantile(0.25, numeric_only = True)\n",
        "Q3 = df.quantile(0.75, numeric_only = True)\n",
        "IQR = Q3 - Q1\n",
        "print(IQR)"
      ],
      "metadata": {
        "colab": {
          "base_uri": "https://localhost:8080/"
        },
        "id": "3NQqb_vvNCji",
        "outputId": "cf7a0305-98b1-4be7-e53b-17c973715044"
      },
      "execution_count": 118,
      "outputs": [
        {
          "output_type": "stream",
          "name": "stdout",
          "text": [
            "Rooms                 1.0\n",
            "Price            680000.0\n",
            "Distance              6.9\n",
            "Postcode            104.0\n",
            "Bedroom2              1.0\n",
            "Bathroom              1.0\n",
            "Car                   1.0\n",
            "Landsize            474.0\n",
            "BuildingArea         30.0\n",
            "YearBuilt            15.0\n",
            "Lattitude        0.100423\n",
            "Longtitude       0.128705\n",
            "Propertycount      5951.0\n",
            "dtype: Float64\n"
          ]
        }
      ]
    },
    {
      "cell_type": "code",
      "source": [
        "outliers = ((df < (Q1 - 1.5 * IQR)) | (df > (Q3 + 1.5 * IQR)))\n",
        "outliers"
      ],
      "metadata": {
        "colab": {
          "base_uri": "https://localhost:8080/",
          "height": 513
        },
        "id": "9-sKmIG6NpJi",
        "outputId": "c8aeb93b-f121-41e8-ea11-8079f8da0332"
      },
      "execution_count": 119,
      "outputs": [
        {
          "output_type": "stream",
          "name": "stderr",
          "text": [
            "<ipython-input-119-f0a9391e57c7>:1: FutureWarning: Automatic reindexing on DataFrame vs Series comparisons is deprecated and will raise ValueError in a future version. Do `left, right = left.align(right, axis=1, copy=False)` before e.g. `left == right`\n",
            "  outliers = ((df < (Q1 - 1.5 * IQR)) | (df > (Q3 + 1.5 * IQR)))\n",
            "<ipython-input-119-f0a9391e57c7>:1: FutureWarning: Automatic reindexing on DataFrame vs Series comparisons is deprecated and will raise ValueError in a future version. Do `left, right = left.align(right, axis=1, copy=False)` before e.g. `left == right`\n",
            "  outliers = ((df < (Q1 - 1.5 * IQR)) | (df > (Q3 + 1.5 * IQR)))\n"
          ]
        },
        {
          "output_type": "execute_result",
          "data": {
            "text/plain": [
              "       Address  Bathroom  Bedroom2  BuildingArea    Car  CouncilArea   Date  \\\n",
              "0        False     False     False         False  False        False  False   \n",
              "1        False     False     False         False  False        False  False   \n",
              "2        False     False     False         False  False        False  False   \n",
              "3        False     False     False         False  False        False  False   \n",
              "4        False     False     False         False  False        False  False   \n",
              "...        ...       ...       ...           ...    ...          ...    ...   \n",
              "13575    False     False     False         False  False        False  False   \n",
              "13576    False     False     False         False  False        False  False   \n",
              "13577    False     False     False         False   True        False  False   \n",
              "13578    False     False     False         False   True        False  False   \n",
              "13579    False     False     False         False  False        False  False   \n",
              "\n",
              "       Distance  Landsize  Lattitude  ...  Method  Postcode  Price  \\\n",
              "0         False     False      False  ...   False     False  False   \n",
              "1         False     False      False  ...   False     False  False   \n",
              "2         False     False      False  ...   False     False  False   \n",
              "3         False     False      False  ...   False     False  False   \n",
              "4         False     False      False  ...   False     False  False   \n",
              "...         ...       ...        ...  ...     ...       ...    ...   \n",
              "13575     False     False      False  ...   False     False  False   \n",
              "13576     False     False      False  ...   False     False  False   \n",
              "13577     False     False      False  ...   False     False  False   \n",
              "13578     False     False      False  ...   False     False   True   \n",
              "13579     False     False      False  ...   False     False  False   \n",
              "\n",
              "       Propertycount  Regionname  Rooms  SellerG  Suburb   Type  YearBuilt  \n",
              "0              False       False  False    False   False  False      False  \n",
              "1              False       False  False    False   False  False       True  \n",
              "2              False       False  False    False   False  False       True  \n",
              "3              False       False  False    False   False  False      False  \n",
              "4              False       False  False    False   False  False       True  \n",
              "...              ...         ...    ...      ...     ...    ...        ...  \n",
              "13575          False       False  False    False   False  False      False  \n",
              "13576          False       False  False    False   False  False      False  \n",
              "13577          False       False  False    False   False  False      False  \n",
              "13578          False       False  False    False   False  False       True  \n",
              "13579          False       False  False    False   False  False       True  \n",
              "\n",
              "[13580 rows x 21 columns]"
            ],
            "text/html": [
              "\n",
              "  <div id=\"df-6f96c3e8-e6a1-4eba-a586-483ec61949c8\" class=\"colab-df-container\">\n",
              "    <div>\n",
              "<style scoped>\n",
              "    .dataframe tbody tr th:only-of-type {\n",
              "        vertical-align: middle;\n",
              "    }\n",
              "\n",
              "    .dataframe tbody tr th {\n",
              "        vertical-align: top;\n",
              "    }\n",
              "\n",
              "    .dataframe thead th {\n",
              "        text-align: right;\n",
              "    }\n",
              "</style>\n",
              "<table border=\"1\" class=\"dataframe\">\n",
              "  <thead>\n",
              "    <tr style=\"text-align: right;\">\n",
              "      <th></th>\n",
              "      <th>Address</th>\n",
              "      <th>Bathroom</th>\n",
              "      <th>Bedroom2</th>\n",
              "      <th>BuildingArea</th>\n",
              "      <th>Car</th>\n",
              "      <th>CouncilArea</th>\n",
              "      <th>Date</th>\n",
              "      <th>Distance</th>\n",
              "      <th>Landsize</th>\n",
              "      <th>Lattitude</th>\n",
              "      <th>...</th>\n",
              "      <th>Method</th>\n",
              "      <th>Postcode</th>\n",
              "      <th>Price</th>\n",
              "      <th>Propertycount</th>\n",
              "      <th>Regionname</th>\n",
              "      <th>Rooms</th>\n",
              "      <th>SellerG</th>\n",
              "      <th>Suburb</th>\n",
              "      <th>Type</th>\n",
              "      <th>YearBuilt</th>\n",
              "    </tr>\n",
              "  </thead>\n",
              "  <tbody>\n",
              "    <tr>\n",
              "      <th>0</th>\n",
              "      <td>False</td>\n",
              "      <td>False</td>\n",
              "      <td>False</td>\n",
              "      <td>False</td>\n",
              "      <td>False</td>\n",
              "      <td>False</td>\n",
              "      <td>False</td>\n",
              "      <td>False</td>\n",
              "      <td>False</td>\n",
              "      <td>False</td>\n",
              "      <td>...</td>\n",
              "      <td>False</td>\n",
              "      <td>False</td>\n",
              "      <td>False</td>\n",
              "      <td>False</td>\n",
              "      <td>False</td>\n",
              "      <td>False</td>\n",
              "      <td>False</td>\n",
              "      <td>False</td>\n",
              "      <td>False</td>\n",
              "      <td>False</td>\n",
              "    </tr>\n",
              "    <tr>\n",
              "      <th>1</th>\n",
              "      <td>False</td>\n",
              "      <td>False</td>\n",
              "      <td>False</td>\n",
              "      <td>False</td>\n",
              "      <td>False</td>\n",
              "      <td>False</td>\n",
              "      <td>False</td>\n",
              "      <td>False</td>\n",
              "      <td>False</td>\n",
              "      <td>False</td>\n",
              "      <td>...</td>\n",
              "      <td>False</td>\n",
              "      <td>False</td>\n",
              "      <td>False</td>\n",
              "      <td>False</td>\n",
              "      <td>False</td>\n",
              "      <td>False</td>\n",
              "      <td>False</td>\n",
              "      <td>False</td>\n",
              "      <td>False</td>\n",
              "      <td>True</td>\n",
              "    </tr>\n",
              "    <tr>\n",
              "      <th>2</th>\n",
              "      <td>False</td>\n",
              "      <td>False</td>\n",
              "      <td>False</td>\n",
              "      <td>False</td>\n",
              "      <td>False</td>\n",
              "      <td>False</td>\n",
              "      <td>False</td>\n",
              "      <td>False</td>\n",
              "      <td>False</td>\n",
              "      <td>False</td>\n",
              "      <td>...</td>\n",
              "      <td>False</td>\n",
              "      <td>False</td>\n",
              "      <td>False</td>\n",
              "      <td>False</td>\n",
              "      <td>False</td>\n",
              "      <td>False</td>\n",
              "      <td>False</td>\n",
              "      <td>False</td>\n",
              "      <td>False</td>\n",
              "      <td>True</td>\n",
              "    </tr>\n",
              "    <tr>\n",
              "      <th>3</th>\n",
              "      <td>False</td>\n",
              "      <td>False</td>\n",
              "      <td>False</td>\n",
              "      <td>False</td>\n",
              "      <td>False</td>\n",
              "      <td>False</td>\n",
              "      <td>False</td>\n",
              "      <td>False</td>\n",
              "      <td>False</td>\n",
              "      <td>False</td>\n",
              "      <td>...</td>\n",
              "      <td>False</td>\n",
              "      <td>False</td>\n",
              "      <td>False</td>\n",
              "      <td>False</td>\n",
              "      <td>False</td>\n",
              "      <td>False</td>\n",
              "      <td>False</td>\n",
              "      <td>False</td>\n",
              "      <td>False</td>\n",
              "      <td>False</td>\n",
              "    </tr>\n",
              "    <tr>\n",
              "      <th>4</th>\n",
              "      <td>False</td>\n",
              "      <td>False</td>\n",
              "      <td>False</td>\n",
              "      <td>False</td>\n",
              "      <td>False</td>\n",
              "      <td>False</td>\n",
              "      <td>False</td>\n",
              "      <td>False</td>\n",
              "      <td>False</td>\n",
              "      <td>False</td>\n",
              "      <td>...</td>\n",
              "      <td>False</td>\n",
              "      <td>False</td>\n",
              "      <td>False</td>\n",
              "      <td>False</td>\n",
              "      <td>False</td>\n",
              "      <td>False</td>\n",
              "      <td>False</td>\n",
              "      <td>False</td>\n",
              "      <td>False</td>\n",
              "      <td>True</td>\n",
              "    </tr>\n",
              "    <tr>\n",
              "      <th>...</th>\n",
              "      <td>...</td>\n",
              "      <td>...</td>\n",
              "      <td>...</td>\n",
              "      <td>...</td>\n",
              "      <td>...</td>\n",
              "      <td>...</td>\n",
              "      <td>...</td>\n",
              "      <td>...</td>\n",
              "      <td>...</td>\n",
              "      <td>...</td>\n",
              "      <td>...</td>\n",
              "      <td>...</td>\n",
              "      <td>...</td>\n",
              "      <td>...</td>\n",
              "      <td>...</td>\n",
              "      <td>...</td>\n",
              "      <td>...</td>\n",
              "      <td>...</td>\n",
              "      <td>...</td>\n",
              "      <td>...</td>\n",
              "      <td>...</td>\n",
              "    </tr>\n",
              "    <tr>\n",
              "      <th>13575</th>\n",
              "      <td>False</td>\n",
              "      <td>False</td>\n",
              "      <td>False</td>\n",
              "      <td>False</td>\n",
              "      <td>False</td>\n",
              "      <td>False</td>\n",
              "      <td>False</td>\n",
              "      <td>False</td>\n",
              "      <td>False</td>\n",
              "      <td>False</td>\n",
              "      <td>...</td>\n",
              "      <td>False</td>\n",
              "      <td>False</td>\n",
              "      <td>False</td>\n",
              "      <td>False</td>\n",
              "      <td>False</td>\n",
              "      <td>False</td>\n",
              "      <td>False</td>\n",
              "      <td>False</td>\n",
              "      <td>False</td>\n",
              "      <td>False</td>\n",
              "    </tr>\n",
              "    <tr>\n",
              "      <th>13576</th>\n",
              "      <td>False</td>\n",
              "      <td>False</td>\n",
              "      <td>False</td>\n",
              "      <td>False</td>\n",
              "      <td>False</td>\n",
              "      <td>False</td>\n",
              "      <td>False</td>\n",
              "      <td>False</td>\n",
              "      <td>False</td>\n",
              "      <td>False</td>\n",
              "      <td>...</td>\n",
              "      <td>False</td>\n",
              "      <td>False</td>\n",
              "      <td>False</td>\n",
              "      <td>False</td>\n",
              "      <td>False</td>\n",
              "      <td>False</td>\n",
              "      <td>False</td>\n",
              "      <td>False</td>\n",
              "      <td>False</td>\n",
              "      <td>False</td>\n",
              "    </tr>\n",
              "    <tr>\n",
              "      <th>13577</th>\n",
              "      <td>False</td>\n",
              "      <td>False</td>\n",
              "      <td>False</td>\n",
              "      <td>False</td>\n",
              "      <td>True</td>\n",
              "      <td>False</td>\n",
              "      <td>False</td>\n",
              "      <td>False</td>\n",
              "      <td>False</td>\n",
              "      <td>False</td>\n",
              "      <td>...</td>\n",
              "      <td>False</td>\n",
              "      <td>False</td>\n",
              "      <td>False</td>\n",
              "      <td>False</td>\n",
              "      <td>False</td>\n",
              "      <td>False</td>\n",
              "      <td>False</td>\n",
              "      <td>False</td>\n",
              "      <td>False</td>\n",
              "      <td>False</td>\n",
              "    </tr>\n",
              "    <tr>\n",
              "      <th>13578</th>\n",
              "      <td>False</td>\n",
              "      <td>False</td>\n",
              "      <td>False</td>\n",
              "      <td>False</td>\n",
              "      <td>True</td>\n",
              "      <td>False</td>\n",
              "      <td>False</td>\n",
              "      <td>False</td>\n",
              "      <td>False</td>\n",
              "      <td>False</td>\n",
              "      <td>...</td>\n",
              "      <td>False</td>\n",
              "      <td>False</td>\n",
              "      <td>True</td>\n",
              "      <td>False</td>\n",
              "      <td>False</td>\n",
              "      <td>False</td>\n",
              "      <td>False</td>\n",
              "      <td>False</td>\n",
              "      <td>False</td>\n",
              "      <td>True</td>\n",
              "    </tr>\n",
              "    <tr>\n",
              "      <th>13579</th>\n",
              "      <td>False</td>\n",
              "      <td>False</td>\n",
              "      <td>False</td>\n",
              "      <td>False</td>\n",
              "      <td>False</td>\n",
              "      <td>False</td>\n",
              "      <td>False</td>\n",
              "      <td>False</td>\n",
              "      <td>False</td>\n",
              "      <td>False</td>\n",
              "      <td>...</td>\n",
              "      <td>False</td>\n",
              "      <td>False</td>\n",
              "      <td>False</td>\n",
              "      <td>False</td>\n",
              "      <td>False</td>\n",
              "      <td>False</td>\n",
              "      <td>False</td>\n",
              "      <td>False</td>\n",
              "      <td>False</td>\n",
              "      <td>True</td>\n",
              "    </tr>\n",
              "  </tbody>\n",
              "</table>\n",
              "<p>13580 rows × 21 columns</p>\n",
              "</div>\n",
              "    <div class=\"colab-df-buttons\">\n",
              "\n",
              "  <div class=\"colab-df-container\">\n",
              "    <button class=\"colab-df-convert\" onclick=\"convertToInteractive('df-6f96c3e8-e6a1-4eba-a586-483ec61949c8')\"\n",
              "            title=\"Convert this dataframe to an interactive table.\"\n",
              "            style=\"display:none;\">\n",
              "\n",
              "  <svg xmlns=\"http://www.w3.org/2000/svg\" height=\"24px\" viewBox=\"0 -960 960 960\">\n",
              "    <path d=\"M120-120v-720h720v720H120Zm60-500h600v-160H180v160Zm220 220h160v-160H400v160Zm0 220h160v-160H400v160ZM180-400h160v-160H180v160Zm440 0h160v-160H620v160ZM180-180h160v-160H180v160Zm440 0h160v-160H620v160Z\"/>\n",
              "  </svg>\n",
              "    </button>\n",
              "\n",
              "  <style>\n",
              "    .colab-df-container {\n",
              "      display:flex;\n",
              "      gap: 12px;\n",
              "    }\n",
              "\n",
              "    .colab-df-convert {\n",
              "      background-color: #E8F0FE;\n",
              "      border: none;\n",
              "      border-radius: 50%;\n",
              "      cursor: pointer;\n",
              "      display: none;\n",
              "      fill: #1967D2;\n",
              "      height: 32px;\n",
              "      padding: 0 0 0 0;\n",
              "      width: 32px;\n",
              "    }\n",
              "\n",
              "    .colab-df-convert:hover {\n",
              "      background-color: #E2EBFA;\n",
              "      box-shadow: 0px 1px 2px rgba(60, 64, 67, 0.3), 0px 1px 3px 1px rgba(60, 64, 67, 0.15);\n",
              "      fill: #174EA6;\n",
              "    }\n",
              "\n",
              "    .colab-df-buttons div {\n",
              "      margin-bottom: 4px;\n",
              "    }\n",
              "\n",
              "    [theme=dark] .colab-df-convert {\n",
              "      background-color: #3B4455;\n",
              "      fill: #D2E3FC;\n",
              "    }\n",
              "\n",
              "    [theme=dark] .colab-df-convert:hover {\n",
              "      background-color: #434B5C;\n",
              "      box-shadow: 0px 1px 3px 1px rgba(0, 0, 0, 0.15);\n",
              "      filter: drop-shadow(0px 1px 2px rgba(0, 0, 0, 0.3));\n",
              "      fill: #FFFFFF;\n",
              "    }\n",
              "  </style>\n",
              "\n",
              "    <script>\n",
              "      const buttonEl =\n",
              "        document.querySelector('#df-6f96c3e8-e6a1-4eba-a586-483ec61949c8 button.colab-df-convert');\n",
              "      buttonEl.style.display =\n",
              "        google.colab.kernel.accessAllowed ? 'block' : 'none';\n",
              "\n",
              "      async function convertToInteractive(key) {\n",
              "        const element = document.querySelector('#df-6f96c3e8-e6a1-4eba-a586-483ec61949c8');\n",
              "        const dataTable =\n",
              "          await google.colab.kernel.invokeFunction('convertToInteractive',\n",
              "                                                    [key], {});\n",
              "        if (!dataTable) return;\n",
              "\n",
              "        const docLinkHtml = 'Like what you see? Visit the ' +\n",
              "          '<a target=\"_blank\" href=https://colab.research.google.com/notebooks/data_table.ipynb>data table notebook</a>'\n",
              "          + ' to learn more about interactive tables.';\n",
              "        element.innerHTML = '';\n",
              "        dataTable['output_type'] = 'display_data';\n",
              "        await google.colab.output.renderOutput(dataTable, element);\n",
              "        const docLink = document.createElement('div');\n",
              "        docLink.innerHTML = docLinkHtml;\n",
              "        element.appendChild(docLink);\n",
              "      }\n",
              "    </script>\n",
              "  </div>\n",
              "\n",
              "\n",
              "<div id=\"df-19b4a14b-686d-455c-bfdf-ecbaad0e1e6f\">\n",
              "  <button class=\"colab-df-quickchart\" onclick=\"quickchart('df-19b4a14b-686d-455c-bfdf-ecbaad0e1e6f')\"\n",
              "            title=\"Suggest charts\"\n",
              "            style=\"display:none;\">\n",
              "\n",
              "<svg xmlns=\"http://www.w3.org/2000/svg\" height=\"24px\"viewBox=\"0 0 24 24\"\n",
              "     width=\"24px\">\n",
              "    <g>\n",
              "        <path d=\"M19 3H5c-1.1 0-2 .9-2 2v14c0 1.1.9 2 2 2h14c1.1 0 2-.9 2-2V5c0-1.1-.9-2-2-2zM9 17H7v-7h2v7zm4 0h-2V7h2v10zm4 0h-2v-4h2v4z\"/>\n",
              "    </g>\n",
              "</svg>\n",
              "  </button>\n",
              "\n",
              "<style>\n",
              "  .colab-df-quickchart {\n",
              "      --bg-color: #E8F0FE;\n",
              "      --fill-color: #1967D2;\n",
              "      --hover-bg-color: #E2EBFA;\n",
              "      --hover-fill-color: #174EA6;\n",
              "      --disabled-fill-color: #AAA;\n",
              "      --disabled-bg-color: #DDD;\n",
              "  }\n",
              "\n",
              "  [theme=dark] .colab-df-quickchart {\n",
              "      --bg-color: #3B4455;\n",
              "      --fill-color: #D2E3FC;\n",
              "      --hover-bg-color: #434B5C;\n",
              "      --hover-fill-color: #FFFFFF;\n",
              "      --disabled-bg-color: #3B4455;\n",
              "      --disabled-fill-color: #666;\n",
              "  }\n",
              "\n",
              "  .colab-df-quickchart {\n",
              "    background-color: var(--bg-color);\n",
              "    border: none;\n",
              "    border-radius: 50%;\n",
              "    cursor: pointer;\n",
              "    display: none;\n",
              "    fill: var(--fill-color);\n",
              "    height: 32px;\n",
              "    padding: 0;\n",
              "    width: 32px;\n",
              "  }\n",
              "\n",
              "  .colab-df-quickchart:hover {\n",
              "    background-color: var(--hover-bg-color);\n",
              "    box-shadow: 0 1px 2px rgba(60, 64, 67, 0.3), 0 1px 3px 1px rgba(60, 64, 67, 0.15);\n",
              "    fill: var(--button-hover-fill-color);\n",
              "  }\n",
              "\n",
              "  .colab-df-quickchart-complete:disabled,\n",
              "  .colab-df-quickchart-complete:disabled:hover {\n",
              "    background-color: var(--disabled-bg-color);\n",
              "    fill: var(--disabled-fill-color);\n",
              "    box-shadow: none;\n",
              "  }\n",
              "\n",
              "  .colab-df-spinner {\n",
              "    border: 2px solid var(--fill-color);\n",
              "    border-color: transparent;\n",
              "    border-bottom-color: var(--fill-color);\n",
              "    animation:\n",
              "      spin 1s steps(1) infinite;\n",
              "  }\n",
              "\n",
              "  @keyframes spin {\n",
              "    0% {\n",
              "      border-color: transparent;\n",
              "      border-bottom-color: var(--fill-color);\n",
              "      border-left-color: var(--fill-color);\n",
              "    }\n",
              "    20% {\n",
              "      border-color: transparent;\n",
              "      border-left-color: var(--fill-color);\n",
              "      border-top-color: var(--fill-color);\n",
              "    }\n",
              "    30% {\n",
              "      border-color: transparent;\n",
              "      border-left-color: var(--fill-color);\n",
              "      border-top-color: var(--fill-color);\n",
              "      border-right-color: var(--fill-color);\n",
              "    }\n",
              "    40% {\n",
              "      border-color: transparent;\n",
              "      border-right-color: var(--fill-color);\n",
              "      border-top-color: var(--fill-color);\n",
              "    }\n",
              "    60% {\n",
              "      border-color: transparent;\n",
              "      border-right-color: var(--fill-color);\n",
              "    }\n",
              "    80% {\n",
              "      border-color: transparent;\n",
              "      border-right-color: var(--fill-color);\n",
              "      border-bottom-color: var(--fill-color);\n",
              "    }\n",
              "    90% {\n",
              "      border-color: transparent;\n",
              "      border-bottom-color: var(--fill-color);\n",
              "    }\n",
              "  }\n",
              "</style>\n",
              "\n",
              "  <script>\n",
              "    async function quickchart(key) {\n",
              "      const quickchartButtonEl =\n",
              "        document.querySelector('#' + key + ' button');\n",
              "      quickchartButtonEl.disabled = true;  // To prevent multiple clicks.\n",
              "      quickchartButtonEl.classList.add('colab-df-spinner');\n",
              "      try {\n",
              "        const charts = await google.colab.kernel.invokeFunction(\n",
              "            'suggestCharts', [key], {});\n",
              "      } catch (error) {\n",
              "        console.error('Error during call to suggestCharts:', error);\n",
              "      }\n",
              "      quickchartButtonEl.classList.remove('colab-df-spinner');\n",
              "      quickchartButtonEl.classList.add('colab-df-quickchart-complete');\n",
              "    }\n",
              "    (() => {\n",
              "      let quickchartButtonEl =\n",
              "        document.querySelector('#df-19b4a14b-686d-455c-bfdf-ecbaad0e1e6f button');\n",
              "      quickchartButtonEl.style.display =\n",
              "        google.colab.kernel.accessAllowed ? 'block' : 'none';\n",
              "    })();\n",
              "  </script>\n",
              "</div>\n",
              "    </div>\n",
              "  </div>\n"
            ]
          },
          "metadata": {},
          "execution_count": 119
        }
      ]
    },
    {
      "cell_type": "code",
      "source": [
        "Q1 = df.quantile(0.25, numeric_only = True)\n",
        "Q3 = df.quantile(0.75, numeric_only = True)\n",
        "\n",
        "# Calculate IQR (Interquartile Range)\n",
        "IQR = Q3 - Q1\n",
        "\n",
        "df, Q1 = df.align(Q1, axis=1, copy=False)\n",
        "df, Q3 = df.align(Q3, axis=1, copy=False)\n",
        "\n",
        "# Identify outliers using IQR\n",
        "outliers = ((df < (Q1 - 1.5 * IQR)) | (df > (Q3 + 1.5 * IQR)))\n",
        "\n",
        "# Report columns with outliers and the number of outliers detected\n",
        "outliers_count = outliers.sum()\n",
        "columns_with_outliers = outliers_count[outliers_count > 0]\n",
        "\n",
        "print(\"Columns with outliers:\")\n",
        "print(columns_with_outliers)\n",
        "\n",
        "print(\"\\nNumber of outliers detected:\")\n",
        "print(outliers_count)"
      ],
      "metadata": {
        "colab": {
          "base_uri": "https://localhost:8080/"
        },
        "id": "MGJ7Sz1uNtWZ",
        "outputId": "05df5fd2-5ed0-4eea-cabd-57f36787543c"
      },
      "execution_count": 120,
      "outputs": [
        {
          "output_type": "stream",
          "name": "stdout",
          "text": [
            "Columns with outliers:\n",
            "Bathroom          143\n",
            "Bedroom2          655\n",
            "BuildingArea     2344\n",
            "Car               644\n",
            "Distance          411\n",
            "Landsize          368\n",
            "Lattitude         262\n",
            "Longtitude        408\n",
            "Postcode          208\n",
            "Price             612\n",
            "Propertycount     359\n",
            "Rooms             682\n",
            "YearBuilt        3975\n",
            "dtype: int64\n",
            "\n",
            "Number of outliers detected:\n",
            "Address             0\n",
            "Bathroom          143\n",
            "Bedroom2          655\n",
            "BuildingArea     2344\n",
            "Car               644\n",
            "CouncilArea         0\n",
            "Date                0\n",
            "Distance          411\n",
            "Landsize          368\n",
            "Lattitude         262\n",
            "Longtitude        408\n",
            "Method              0\n",
            "Postcode          208\n",
            "Price             612\n",
            "Propertycount     359\n",
            "Regionname          0\n",
            "Rooms             682\n",
            "SellerG             0\n",
            "Suburb              0\n",
            "Type                0\n",
            "YearBuilt        3975\n",
            "dtype: int64\n"
          ]
        }
      ]
    },
    {
      "cell_type": "markdown",
      "source": [
        "### Handling Outliers"
      ],
      "metadata": {
        "id": "bxHFTM5rRaGP"
      }
    },
    {
      "cell_type": "markdown",
      "source": [
        ">>**Propose a strategy to handle the outliers. Justify your choice of strategy**\n",
        "\n",
        ">>\n",
        "**Removal**: You can simply remove the rows containing outliers from the dataset. However, this approach should be used with caution, as it might lead to loss of valuable information, especially if the outliers are not due to errors but represent valid extreme values in the data.\n",
        ">>\n",
        "**Justification**: Outliers can arise due to measurement errors or invalid data input. In this context, removing outliers can help mitigate the influence of errors and increase the reliability of the analysis.."
      ],
      "metadata": {
        "id": "SdEcu5ExSN96"
      }
    },
    {
      "cell_type": "code",
      "source": [
        "# Removal / dropping outliers\n",
        "\n",
        "df = df[~outliers.any(axis=1)]\n",
        "\n",
        "print(\"Updated DataFrame after removing outliers:\")\n",
        "print(df)"
      ],
      "metadata": {
        "colab": {
          "base_uri": "https://localhost:8080/"
        },
        "id": "OLRco2ACRcV_",
        "outputId": "e898b8e9-6039-4354-8ba3-64425b7eb428"
      },
      "execution_count": 121,
      "outputs": [
        {
          "output_type": "stream",
          "name": "stdout",
          "text": [
            "Updated DataFrame after removing outliers:\n",
            "                  Address  Bathroom  Bedroom2  BuildingArea  Car CouncilArea  \\\n",
            "0            85 Turner St       1.0       2.0         152.0    1       Yarra   \n",
            "3        40 Federation La       2.0       3.0         152.0    1       Yarra   \n",
            "5          129 Charles St       1.0       2.0         152.0    0       Yarra   \n",
            "8      6/241 Nicholson St       1.0       1.0         152.0    1       Yarra   \n",
            "10     411/8 Grosvenor St       2.0       2.0         152.0    1       Yarra   \n",
            "...                   ...       ...       ...           ...  ...         ...   \n",
            "13570       34 Fewster Dr       2.0       3.0         152.0    2    Moreland   \n",
            "13571          15 Mara Cl       2.0       4.0         191.0    2    Moreland   \n",
            "13574          9 Black St       2.0       3.0         152.0    2    Moreland   \n",
            "13575        12 Strada Cr       2.0       4.0         152.0    2    Moreland   \n",
            "13576       77 Merrett Dr       2.0       3.0         133.0    2    Moreland   \n",
            "\n",
            "             Date  Distance  Landsize  Lattitude  ...  Method Postcode  \\\n",
            "0       3/12/2016       2.5     202.0  -37.79960  ...       S   3067.0   \n",
            "3       4/03/2017       2.5      94.0  -37.79690  ...      PI   3067.0   \n",
            "5       7/05/2016       2.5     181.0  -37.80410  ...       S   3067.0   \n",
            "8       8/10/2016       2.5       0.0  -37.80080  ...       S   3067.0   \n",
            "10     12/11/2016       2.5       0.0  -37.81100  ...      VB   3067.0   \n",
            "...           ...       ...       ...        ...  ...     ...      ...   \n",
            "13570  26/08/2017      14.7     674.0  -37.88360  ...       S   3152.0   \n",
            "13571  26/08/2017      14.7     717.0  -37.86887  ...       S   3152.0   \n",
            "13574  26/08/2017      16.5     256.0  -37.67917  ...       S   3049.0   \n",
            "13575  26/08/2017      16.7     652.0  -37.90562  ...       S   3150.0   \n",
            "13576  26/08/2017       6.8     333.0  -37.85927  ...      SP   3016.0   \n",
            "\n",
            "           Price  Propertycount                  Regionname Rooms   SellerG  \\\n",
            "0      1480000.0         4019.0       Northern Metropolitan     2    Biggin   \n",
            "3       850000.0         4019.0       Northern Metropolitan     3    Biggin   \n",
            "5       941000.0         4019.0       Northern Metropolitan     2    Jellis   \n",
            "8       300000.0         4019.0       Northern Metropolitan     1    Biggin   \n",
            "10      700000.0         4019.0       Northern Metropolitan     2    Jellis   \n",
            "...          ...            ...                         ...   ...       ...   \n",
            "13570   970000.0         7082.0        Eastern Metropolitan     3     Barry   \n",
            "13571  1330000.0         7082.0        Eastern Metropolitan     4     Barry   \n",
            "13574   582000.0         2474.0       Northern Metropolitan     3       Red   \n",
            "13575  1245000.0         7392.0  South-Eastern Metropolitan     4     Barry   \n",
            "13576  1031000.0         6380.0        Western Metropolitan     3  Williams   \n",
            "\n",
            "               Suburb Type YearBuilt  \n",
            "0          Abbotsford    h      1970  \n",
            "3          Abbotsford    h      1970  \n",
            "5          Abbotsford    h      1970  \n",
            "8          Abbotsford    u      1970  \n",
            "10         Abbotsford    u      1970  \n",
            "...               ...  ...       ...  \n",
            "13570  Wantirna South    h      1970  \n",
            "13571  Wantirna South    h      1980  \n",
            "13574     Westmeadows    h      1970  \n",
            "13575   Wheelers Hill    h      1981  \n",
            "13576    Williamstown    h      1995  \n",
            "\n",
            "[6698 rows x 21 columns]\n"
          ]
        }
      ]
    },
    {
      "cell_type": "markdown",
      "source": [
        "Detecting Outliers after Handling Outliers"
      ],
      "metadata": {
        "id": "0m72PAqrUfL-"
      }
    },
    {
      "cell_type": "code",
      "source": [
        "outlier_counts = pd.DataFrame(columns=['Column', 'Outlier Count'])\n",
        "\n",
        "# Making boxplot and count the number of outliers for each numeric column\n",
        "for column in df.select_dtypes(include=['int64', 'float64']).columns:\n",
        "    Q1 = df[column].quantile(0.25)\n",
        "    Q3 = df[column].quantile(0.75)\n",
        "    IQR = Q3 - Q1\n",
        "    lower_bound = Q1 - 1.5 * IQR\n",
        "    upper_bound = Q3 + 1.5 * IQR\n",
        "\n",
        "    outliers = (df[column] < lower_bound) | (df[column] > upper_bound)\n",
        "    outlier_count = outliers.sum()\n",
        "\n",
        "    outlier_counts = outlier_counts.append({'Column': column, 'Outlier Count': outlier_count}, ignore_index=True)\n",
        "\n",
        "    sns.boxplot(data=df, x=column)\n",
        "    plt.title(f'Boxplot of {column}')\n",
        "    plt.show()\n",
        "\n",
        "print(\"Jumlah Outlier untuk Masing-masing Kolom:\")\n",
        "print(outlier_counts)"
      ],
      "metadata": {
        "colab": {
          "base_uri": "https://localhost:8080/",
          "height": 1000
        },
        "id": "2jg93VnYUenX",
        "outputId": "7c56531f-541b-4aff-e0b0-10af67ac8ca1"
      },
      "execution_count": 123,
      "outputs": [
        {
          "output_type": "stream",
          "name": "stderr",
          "text": [
            "<ipython-input-123-2ac86d942782>:14: FutureWarning: The frame.append method is deprecated and will be removed from pandas in a future version. Use pandas.concat instead.\n",
            "  outlier_counts = outlier_counts.append({'Column': column, 'Outlier Count': outlier_count}, ignore_index=True)\n"
          ]
        },
        {
          "output_type": "display_data",
          "data": {
            "text/plain": [
              "<Figure size 640x480 with 1 Axes>"
            ],
            "image/png": "[encoded data removed]"
          },
          "metadata": {}
        },
        {
          "output_type": "stream",
          "name": "stderr",
          "text": [
            "<ipython-input-123-2ac86d942782>:14: FutureWarning: The frame.append method is deprecated and will be removed from pandas in a future version. Use pandas.concat instead.\n",
            "  outlier_counts = outlier_counts.append({'Column': column, 'Outlier Count': outlier_count}, ignore_index=True)\n"
          ]
        },
        {
          "output_type": "display_data",
          "data": {
            "text/plain": [
              "<Figure size 640x480 with 1 Axes>"
            ],
            "image/png": "[encoded data removed]"
          },
          "metadata": {}
        },
        {
          "output_type": "stream",
          "name": "stderr",
          "text": [
            "<ipython-input-123-2ac86d942782>:14: FutureWarning: The frame.append method is deprecated and will be removed from pandas in a future version. Use pandas.concat instead.\n",
            "  outlier_counts = outlier_counts.append({'Column': column, 'Outlier Count': outlier_count}, ignore_index=True)\n"
          ]
        },
        {
          "output_type": "display_data",
          "data": {
            "text/plain": [
              "<Figure size 640x480 with 1 Axes>"
            ],
            "image/png": "[encoded data removed]"
          },
          "metadata": {}
        },
        {
          "output_type": "stream",
          "name": "stderr",
          "text": [
            "<ipython-input-123-2ac86d942782>:14: FutureWarning: The frame.append method is deprecated and will be removed from pandas in a future version. Use pandas.concat instead.\n",
            "  outlier_counts = outlier_counts.append({'Column': column, 'Outlier Count': outlier_count}, ignore_index=True)\n"
          ]
        },
        {
          "output_type": "display_data",
          "data": {
            "text/plain": [
              "<Figure size 640x480 with 1 Axes>"
            ],
            "image/png": "[encoded data removed]"
          },
          "metadata": {}
        },
        {
          "output_type": "stream",
          "name": "stderr",
          "text": [
            "<ipython-input-123-2ac86d942782>:14: FutureWarning: The frame.append method is deprecated and will be removed from pandas in a future version. Use pandas.concat instead.\n",
            "  outlier_counts = outlier_counts.append({'Column': column, 'Outlier Count': outlier_count}, ignore_index=True)\n"
          ]
        },
        {
          "output_type": "display_data",
          "data": {
            "text/plain": [
              "<Figure size 640x480 with 1 Axes>"
            ],
            "image/png": "[encoded data removed]"
          },
          "metadata": {}
        },
        {
          "output_type": "stream",
          "name": "stderr",
          "text": [
            "<ipython-input-123-2ac86d942782>:14: FutureWarning: The frame.append method is deprecated and will be removed from pandas in a future version. Use pandas.concat instead.\n",
            "  outlier_counts = outlier_counts.append({'Column': column, 'Outlier Count': outlier_count}, ignore_index=True)\n"
          ]
        },
        {
          "output_type": "display_data",
          "data": {
            "text/plain": [
              "<Figure size 640x480 with 1 Axes>"
            ],
            "image/png": "[encoded data removed]"
          },
          "metadata": {}
        },
        {
          "output_type": "stream",
          "name": "stderr",
          "text": [
            "<ipython-input-123-2ac86d942782>:14: FutureWarning: The frame.append method is deprecated and will be removed from pandas in a future version. Use pandas.concat instead.\n",
            "  outlier_counts = outlier_counts.append({'Column': column, 'Outlier Count': outlier_count}, ignore_index=True)\n"
          ]
        },
        {
          "output_type": "display_data",
          "data": {
            "text/plain": [
              "<Figure size 640x480 with 1 Axes>"
            ],
            "image/png": "[encoded data removed]"
          },
          "metadata": {}
        },
        {
          "output_type": "stream",
          "name": "stderr",
          "text": [
            "<ipython-input-123-2ac86d942782>:14: FutureWarning: The frame.append method is deprecated and will be removed from pandas in a future version. Use pandas.concat instead.\n",
            "  outlier_counts = outlier_counts.append({'Column': column, 'Outlier Count': outlier_count}, ignore_index=True)\n"
          ]
        },
        {
          "output_type": "display_data",
          "data": {
            "text/plain": [
              "<Figure size 640x480 with 1 Axes>"
            ],
            "image/png": "[encoded data removed]"
          },
          "metadata": {}
        },
        {
          "output_type": "stream",
          "name": "stderr",
          "text": [
            "<ipython-input-123-2ac86d942782>:14: FutureWarning: The frame.append method is deprecated and will be removed from pandas in a future version. Use pandas.concat instead.\n",
            "  outlier_counts = outlier_counts.append({'Column': column, 'Outlier Count': outlier_count}, ignore_index=True)\n"
          ]
        },
        {
          "output_type": "display_data",
          "data": {
            "text/plain": [
              "<Figure size 640x480 with 1 Axes>"
            ],
            "image/png": "[encoded data removed]"
          },
          "metadata": {}
        },
        {
          "output_type": "stream",
          "name": "stderr",
          "text": [
            "<ipython-input-123-2ac86d942782>:14: FutureWarning: The frame.append method is deprecated and will be removed from pandas in a future version. Use pandas.concat instead.\n",
            "  outlier_counts = outlier_counts.append({'Column': column, 'Outlier Count': outlier_count}, ignore_index=True)\n"
          ]
        },
        {
          "output_type": "display_data",
          "data": {
            "text/plain": [
              "<Figure size 640x480 with 1 Axes>"
            ],
            "image/png": "[encoded data removed]"
          },
          "metadata": {}
        },
        {
          "output_type": "stream",
          "name": "stderr",
          "text": [
            "<ipython-input-123-2ac86d942782>:14: FutureWarning: The frame.append method is deprecated and will be removed from pandas in a future version. Use pandas.concat instead.\n",
            "  outlier_counts = outlier_counts.append({'Column': column, 'Outlier Count': outlier_count}, ignore_index=True)\n"
          ]
        },
        {
          "output_type": "display_data",
          "data": {
            "text/plain": [
              "<Figure size 640x480 with 1 Axes>"
            ],
            "image/png": "[encoded data removed]"
          },
          "metadata": {}
        },
        {
          "output_type": "stream",
          "name": "stderr",
          "text": [
            "<ipython-input-123-2ac86d942782>:14: FutureWarning: The frame.append method is deprecated and will be removed from pandas in a future version. Use pandas.concat instead.\n",
            "  outlier_counts = outlier_counts.append({'Column': column, 'Outlier Count': outlier_count}, ignore_index=True)\n"
          ]
        },
        {
          "output_type": "display_data",
          "data": {
            "text/plain": [
              "<Figure size 640x480 with 1 Axes>"
            ],
            "image/png": "[encoded data removed]"
          },
          "metadata": {}
        },
        {
          "output_type": "stream",
          "name": "stderr",
          "text": [
            "<ipython-input-123-2ac86d942782>:14: FutureWarning: The frame.append method is deprecated and will be removed from pandas in a future version. Use pandas.concat instead.\n",
            "  outlier_counts = outlier_counts.append({'Column': column, 'Outlier Count': outlier_count}, ignore_index=True)\n"
          ]
        },
        {
          "output_type": "display_data",
          "data": {
            "text/plain": [
              "<Figure size 640x480 with 1 Axes>"
            ],
            "image/png": "[encoded data removed]"
          },
          "metadata": {}
        },
        {
          "output_type": "stream",
          "name": "stdout",
          "text": [
            "Jumlah Outlier untuk Masing-masing Kolom:\n",
            "           Column Outlier Count\n",
            "0        Bathroom             0\n",
            "1        Bedroom2             0\n",
            "2    BuildingArea          2008\n",
            "3             Car             0\n",
            "4        Distance             2\n",
            "5        Landsize             3\n",
            "6       Lattitude             0\n",
            "7      Longtitude             0\n",
            "8        Postcode             0\n",
            "9           Price            90\n",
            "10  Propertycount            15\n",
            "11          Rooms             0\n",
            "12      YearBuilt          2081\n"
          ]
        }
      ]
    }
  ]
}